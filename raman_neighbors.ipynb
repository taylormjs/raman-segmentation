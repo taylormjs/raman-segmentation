{
 "cells": [
  {
   "cell_type": "markdown",
   "metadata": {},
   "source": [
    "# Nuclei Segmentation using Local Raman pixel clusters (i.e. neighbors of each pixel)"
   ]
  },
  {
   "cell_type": "code",
   "execution_count": 3,
   "metadata": {},
   "outputs": [
    {
     "name": "stdout",
     "output_type": "stream",
     "text": [
      "preprocess imported\n",
      "module name : preprocess module package: \n",
      "Python version: 3.7.6 | packaged by conda-forge | (default, Jan  7 2020, 22:05:27) \n",
      "[Clang 9.0.1 ]\n",
      "TensorFlow version: 2.1.0\n",
      "\n",
      "Imports Complete.\n"
     ]
    }
   ],
   "source": [
    "# general python utility packages\n",
    "import os\n",
    "import platform\n",
    "import random\n",
    "import shutil\n",
    "import sys\n",
    "import time\n",
    "import datetime\n",
    "import functools\n",
    "import itertools as it\n",
    "import copy\n",
    "\n",
    "# data science packages\n",
    "import numpy as np \n",
    "import pandas as pd\n",
    "import tensorflow as tf\n",
    "import tensorflow.keras as K\n",
    "from sklearn.utils import resample\n",
    "import sklearn.metrics\n",
    "from sklearn.model_selection import train_test_split\n",
    "from sklearn.preprocessing import LabelEncoder, StandardScaler\n",
    "import anndata as ann\n",
    "import h5py\n",
    "\n",
    "\n",
    "# plotting packages\n",
    "import seaborn as sns\n",
    "\n",
    "import matplotlib.pyplot as plt\n",
    "\n",
    "# local imports\n",
    "import preprocess as pp\n",
    "import train \n",
    "import utils\n",
    "\n",
    "\n",
    "# recommended Python3 version >= 3.5\n",
    "print('Python version: {}'.format(platform.sys.version))\n",
    "\n",
    "\n",
    "# progress bar\n",
    "try:\n",
    "    from tqdm.notebook import tqdm\n",
    "except ImportError:\n",
    "    from tqdm import tqdm_notebook as tqdm\n",
    "\n",
    "\n",
    "# required TensorFlow version >= 2.0.0\n",
    "tf_version = tf.__version__\n",
    "print('TensorFlow version: {}'.format(tf_version))\n",
    "assert int(tf_version[0]) >= 2, \"Tensorflow version must be >= 2.0\"\n",
    "\n",
    "# seed random numbers for reproducibility\n",
    "random.seed(0)\n",
    "np.random.seed(0)\n",
    "tf.random.set_seed(0)\n",
    "\n",
    "print('\\nImports Complete.')"
   ]
  },
  {
   "cell_type": "code",
   "execution_count": 88,
   "metadata": {},
   "outputs": [
    {
     "name": "stdout",
     "output_type": "stream",
     "text": [
      "Requirement already satisfied: keras-tuner in /Users/tjamesso/miniconda3/envs/broad/lib/python3.7/site-packages (1.0.1)\n",
      "Requirement already satisfied: scikit-learn in /Users/tjamesso/miniconda3/envs/broad/lib/python3.7/site-packages (from keras-tuner) (0.22.2.post1)\n",
      "Requirement already satisfied: scipy in /Users/tjamesso/miniconda3/envs/broad/lib/python3.7/site-packages (from keras-tuner) (1.4.1)\n",
      "Requirement already satisfied: tqdm in /Users/tjamesso/miniconda3/envs/broad/lib/python3.7/site-packages (from keras-tuner) (4.36.1)\n",
      "Requirement already satisfied: terminaltables in /Users/tjamesso/miniconda3/envs/broad/lib/python3.7/site-packages (from keras-tuner) (3.1.0)\n",
      "Requirement already satisfied: tabulate in /Users/tjamesso/miniconda3/envs/broad/lib/python3.7/site-packages (from keras-tuner) (0.8.7)\n",
      "Requirement already satisfied: colorama in /Users/tjamesso/miniconda3/envs/broad/lib/python3.7/site-packages (from keras-tuner) (0.4.3)\n",
      "Requirement already satisfied: numpy in /Users/tjamesso/miniconda3/envs/broad/lib/python3.7/site-packages (from keras-tuner) (1.17.2)\n",
      "Requirement already satisfied: future in /Users/tjamesso/miniconda3/envs/broad/lib/python3.7/site-packages (from keras-tuner) (0.18.0)\n",
      "Requirement already satisfied: requests in /Users/tjamesso/miniconda3/envs/broad/lib/python3.7/site-packages (from keras-tuner) (2.22.0)\n",
      "Requirement already satisfied: joblib>=0.11 in /Users/tjamesso/miniconda3/envs/broad/lib/python3.7/site-packages (from scikit-learn->keras-tuner) (0.14.1)\n",
      "Requirement already satisfied: idna<2.9,>=2.5 in /Users/tjamesso/miniconda3/envs/broad/lib/python3.7/site-packages (from requests->keras-tuner) (2.8)\n",
      "Requirement already satisfied: certifi>=2017.4.17 in /Users/tjamesso/miniconda3/envs/broad/lib/python3.7/site-packages (from requests->keras-tuner) (2020.4.5.1)\n",
      "Requirement already satisfied: chardet<3.1.0,>=3.0.2 in /Users/tjamesso/miniconda3/envs/broad/lib/python3.7/site-packages (from requests->keras-tuner) (3.0.4)\n",
      "Requirement already satisfied: urllib3!=1.25.0,!=1.25.1,<1.26,>=1.21.1 in /Users/tjamesso/miniconda3/envs/broad/lib/python3.7/site-packages (from requests->keras-tuner) (1.25.7)\n"
     ]
    }
   ],
   "source": [
    "#installations\n",
    "!pip install keras-tuner"
   ]
  },
  {
   "cell_type": "markdown",
   "metadata": {},
   "source": [
    "### Load data"
   ]
  },
  {
   "cell_type": "code",
   "execution_count": 131,
   "metadata": {},
   "outputs": [],
   "source": [
    "# load in full dataset (un-balanced)\n",
    "pp_file = 'preprocessed_data.h5'\n",
    "raman_df_full = pd.read_hdf(pp_file, mode='r+', key='pp')"
   ]
  },
  {
   "cell_type": "code",
   "execution_count": 319,
   "metadata": {},
   "outputs": [],
   "source": [
    "# get background\n",
    "bg_mask = raman_df_full.background == True\n",
    "bg = raman_df_full[bg_mask]"
   ]
  },
  {
   "cell_type": "code",
   "execution_count": 320,
   "metadata": {},
   "outputs": [],
   "source": [
    "# get foreground\n",
    "fg = raman_df_full[~bg_mask]\n",
    "\n",
    "# remove null values \n",
    "fg = fg[~fg.background.isnull()]"
   ]
  },
  {
   "cell_type": "code",
   "execution_count": 321,
   "metadata": {},
   "outputs": [],
   "source": [
    "# divide background spectra into train, test, val sets\n",
    "train_bg_mask = bg.image.isin(['D13_Pos19', 'D11.5_Pos13'])\n",
    "val_bg_mask = bg.image == 'D11_Pos4'\n",
    "test_bg_mask = bg.image == 'D8_Pos4'\n",
    "\n",
    "train_bg = bg[train_bg_mask]\n",
    "val_bg = bg[val_bg_mask]\n",
    "test_bg = bg[test_bg_mask]"
   ]
  },
  {
   "cell_type": "code",
   "execution_count": 323,
   "metadata": {},
   "outputs": [],
   "source": [
    "# reset random seed\n",
    "import time\n",
    "random.seed(int(time.time()))\n",
    "np.random.seed(int(time.time()))\n",
    "tf.random.set_seed(int(time.time()))"
   ]
  },
  {
   "cell_type": "code",
   "execution_count": 324,
   "metadata": {},
   "outputs": [],
   "source": [
    "# divide foreground spectra into train, test, val sets\n",
    "\n",
    "# choose a random sampling of images to go in each set\n",
    "fg_images = pd.Series(fg.image.unique())\n",
    "train_im, test_im, val_im = np.split(fg_images, [int(len(fg_images)*.6), int(len(fg_images)*.8)])\n",
    "\n",
    "# get dataframe with those images only\n",
    "train_fg = fg[fg.image.isin(train_im)]\n",
    "val_fg = fg[fg.image.isin(val_im)]\n",
    "test_fg = fg[fg.image.isin(test_im)]"
   ]
  },
  {
   "cell_type": "code",
   "execution_count": 334,
   "metadata": {},
   "outputs": [
    {
     "name": "stderr",
     "output_type": "stream",
     "text": [
      "/Users/tjamesso/miniconda3/envs/broad/lib/python3.7/site-packages/ipykernel_launcher.py:8: PerformanceWarning: \n",
      "your performance may suffer as PyTables will pickle object types that it cannot\n",
      "map directly to c-types [inferred_type->mixed-integer,key->axis0] [items->None]\n",
      "\n",
      "  \n",
      "/Users/tjamesso/miniconda3/envs/broad/lib/python3.7/site-packages/ipykernel_launcher.py:8: PerformanceWarning: \n",
      "your performance may suffer as PyTables will pickle object types that it cannot\n",
      "map directly to c-types [inferred_type->mixed-integer,key->block0_items] [items->None]\n",
      "\n",
      "  \n",
      "/Users/tjamesso/miniconda3/envs/broad/lib/python3.7/site-packages/IPython/core/interactiveshell.py:3319: PerformanceWarning: \n",
      "your performance may suffer as PyTables will pickle object types that it cannot\n",
      "map directly to c-types [inferred_type->mixed,key->block1_values] [items->['image', 'day', 'pos', 'cell_id', 'pixel_id', 'background']]\n",
      "\n",
      "  exec(code_obj, self.user_global_ns, self.user_ns)\n"
     ]
    },
    {
     "name": "stdout",
     "output_type": "stream",
     "text": [
      "training set saved\n"
     ]
    },
    {
     "name": "stderr",
     "output_type": "stream",
     "text": [
      "/Users/tjamesso/miniconda3/envs/broad/lib/python3.7/site-packages/ipykernel_launcher.py:10: PerformanceWarning: \n",
      "your performance may suffer as PyTables will pickle object types that it cannot\n",
      "map directly to c-types [inferred_type->mixed-integer,key->axis0] [items->None]\n",
      "\n",
      "  # Remove the CWD from sys.path while we load stuff.\n",
      "/Users/tjamesso/miniconda3/envs/broad/lib/python3.7/site-packages/ipykernel_launcher.py:10: PerformanceWarning: \n",
      "your performance may suffer as PyTables will pickle object types that it cannot\n",
      "map directly to c-types [inferred_type->mixed-integer,key->block0_items] [items->None]\n",
      "\n",
      "  # Remove the CWD from sys.path while we load stuff.\n"
     ]
    },
    {
     "name": "stdout",
     "output_type": "stream",
     "text": [
      "testing set saved\n"
     ]
    },
    {
     "name": "stderr",
     "output_type": "stream",
     "text": [
      "/Users/tjamesso/miniconda3/envs/broad/lib/python3.7/site-packages/ipykernel_launcher.py:12: PerformanceWarning: \n",
      "your performance may suffer as PyTables will pickle object types that it cannot\n",
      "map directly to c-types [inferred_type->mixed-integer,key->axis0] [items->None]\n",
      "\n",
      "  if sys.path[0] == '':\n"
     ]
    },
    {
     "name": "stdout",
     "output_type": "stream",
     "text": [
      "validation set saved\n"
     ]
    },
    {
     "name": "stderr",
     "output_type": "stream",
     "text": [
      "/Users/tjamesso/miniconda3/envs/broad/lib/python3.7/site-packages/ipykernel_launcher.py:12: PerformanceWarning: \n",
      "your performance may suffer as PyTables will pickle object types that it cannot\n",
      "map directly to c-types [inferred_type->mixed-integer,key->block0_items] [items->None]\n",
      "\n",
      "  if sys.path[0] == '':\n"
     ]
    }
   ],
   "source": [
    "# make unbalanced datasets and save to .h5 file\n",
    "x_train_pd = pd.concat([train_bg, train_fg])\n",
    "x_test_pd = pd.concat([test_bg, test_fg])\n",
    "x_val_pd = pd.concat([val_bg, val_fg])\n",
    "\n",
    "# save to .h5 file\n",
    "store_imb = pd.HDFStore('train_val_test_imb.h5')\n",
    "store_imb['train'] = x_train_pd\n",
    "print('training set saved')\n",
    "store_imb['test'] = x_test_pd\n",
    "print('testing set saved')\n",
    "store_imb['val'] = x_val_pd\n",
    "print('validation set saved')\n",
    "store_imb.close()"
   ]
  },
  {
   "cell_type": "code",
   "execution_count": 318,
   "metadata": {},
   "outputs": [],
   "source": [
    "# load train_test_val from h5 file\n",
    "file = 'train_val_test_ds.h5'\n",
    "x_train_pd = pd.read_hdf(file, mode='r+', key='x_train')\n",
    "labels_train = pd.read_hdf(file, mode='r+', key='y_train')\n",
    "x_val_pd = pd.read_hdf(file, mode='r+', key='x_val')\n",
    "labels_val = pd.read_hdf(file, mode='r+', key='y_val')\n",
    "x_test_pd = pd.read_hdf(file, mode='r+', key='x_test')\n",
    "labels_test = pd.read_hdf(file, mode='r+', key='y_test')\n",
    "\n",
    "# convert to numpy\n",
    "x_train_np = x_train_pd.to_numpy()\n",
    "x_val_np = x_val_pd.to_numpy()\n",
    "x_test_np = x_test_pd.to_numpy()\n",
    "\n",
    "# get full dataframes again\n",
    "x_train_full = pd.concat([labels_train, x_train_pd], axis=1)\n",
    "x_test_full = pd.concat([labels_val, x_val_pd], axis=1)\n",
    "x_val_full = pd.concat([labels_test, x_test_pd], axis=1)"
   ]
  },
  {
   "cell_type": "code",
   "execution_count": 3,
   "metadata": {},
   "outputs": [],
   "source": [
    "# convert training, validation sets and labels to tensors, labels one-hot encoded\n",
    "# training set\n",
    "x_train = tf.convert_to_tensor(x_train_np)\n",
    "le_train = LabelEncoder()\n",
    "y_le_train = le_train.fit_transform(~labels_train.background.to_numpy())\n",
    "y_train = tf.one_hot(y_le_train,depth=2) \n",
    "\n",
    "# validation set\n",
    "x_val = tf.convert_to_tensor(x_val_np)\n",
    "le_val = LabelEncoder()\n",
    "y_le_val = le_val.fit_transform(~labels_val.background.to_numpy())\n",
    "y_val = tf.one_hot(y_le_val,depth=2) #refers to foreground\n",
    "\n",
    "# test set\n",
    "x_test = tf.convert_to_tensor(x_test_np)\n",
    "le_test = LabelEncoder()\n",
    "y_le_test = le_test.fit_transform(~labels_test.background.to_numpy())\n",
    "y_test = tf.one_hot(y_le_test,depth=2) #refers to foreground"
   ]
  },
  {
   "cell_type": "code",
   "execution_count": 74,
   "metadata": {},
   "outputs": [
    {
     "data": {
      "text/html": [
       "<div>\n",
       "<style scoped>\n",
       "    .dataframe tbody tr th:only-of-type {\n",
       "        vertical-align: middle;\n",
       "    }\n",
       "\n",
       "    .dataframe tbody tr th {\n",
       "        vertical-align: top;\n",
       "    }\n",
       "\n",
       "    .dataframe thead th {\n",
       "        text-align: right;\n",
       "    }\n",
       "</style>\n",
       "<table border=\"1\" class=\"dataframe\">\n",
       "  <thead>\n",
       "    <tr style=\"text-align: right;\">\n",
       "      <th></th>\n",
       "      <th>image</th>\n",
       "      <th>day</th>\n",
       "      <th>pos</th>\n",
       "      <th>cell_id</th>\n",
       "      <th>pixel_id</th>\n",
       "      <th>pix_x</th>\n",
       "      <th>pix_y</th>\n",
       "      <th>background</th>\n",
       "      <th>0</th>\n",
       "      <th>1</th>\n",
       "      <th>...</th>\n",
       "      <th>920</th>\n",
       "      <th>921</th>\n",
       "      <th>922</th>\n",
       "      <th>923</th>\n",
       "      <th>924</th>\n",
       "      <th>925</th>\n",
       "      <th>926</th>\n",
       "      <th>927</th>\n",
       "      <th>928</th>\n",
       "      <th>929</th>\n",
       "    </tr>\n",
       "  </thead>\n",
       "  <tbody>\n",
       "    <tr>\n",
       "      <td>43620</td>\n",
       "      <td>D13_Pos19</td>\n",
       "      <td>D13</td>\n",
       "      <td>Pos19</td>\n",
       "      <td>D13_Pos19_cell15</td>\n",
       "      <td>D13_Pos19_cell15_pix25</td>\n",
       "      <td>84.0</td>\n",
       "      <td>77.0</td>\n",
       "      <td>False</td>\n",
       "      <td>0.396188</td>\n",
       "      <td>1.28518</td>\n",
       "      <td>...</td>\n",
       "      <td>-2.790167</td>\n",
       "      <td>-1.568548</td>\n",
       "      <td>0.350659</td>\n",
       "      <td>-0.88775</td>\n",
       "      <td>-0.877704</td>\n",
       "      <td>-0.248378</td>\n",
       "      <td>0.961621</td>\n",
       "      <td>-3.907183</td>\n",
       "      <td>-3.82069</td>\n",
       "      <td>-2.700839</td>\n",
       "    </tr>\n",
       "  </tbody>\n",
       "</table>\n",
       "<p>1 rows × 938 columns</p>\n",
       "</div>"
      ],
      "text/plain": [
       "           image  day    pos           cell_id                pixel_id  pix_x  \\\n",
       "43620  D13_Pos19  D13  Pos19  D13_Pos19_cell15  D13_Pos19_cell15_pix25   84.0   \n",
       "\n",
       "       pix_y background         0        1  ...       920       921       922  \\\n",
       "43620   77.0      False  0.396188  1.28518  ... -2.790167 -1.568548  0.350659   \n",
       "\n",
       "           923       924       925       926       927      928       929  \n",
       "43620 -0.88775 -0.877704 -0.248378  0.961621 -3.907183 -3.82069 -2.700839  \n",
       "\n",
       "[1 rows x 938 columns]"
      ]
     },
     "execution_count": 74,
     "metadata": {},
     "output_type": "execute_result"
    }
   ],
   "source": [
    "x, y = 10, 20\n",
    "mask = x_train_full['image'] == 'D13_Pos19'\n",
    "day_images = x_train_full[mask]\n",
    "duo_mask = (day_images.pix_x == 84) & (day_images.pix_y == 77)\n",
    "# day_images[duo_mask].index[0\n",
    "day_images[duo_mask]"
   ]
  },
  {
   "cell_type": "markdown",
   "metadata": {},
   "source": [
    "## Recast all spectra into tensors of size k x k x 930"
   ]
  },
  {
   "cell_type": "markdown",
   "metadata": {},
   "source": [
    "### Recast dataframe spectra"
   ]
  },
  {
   "cell_type": "code",
   "execution_count": 10,
   "metadata": {},
   "outputs": [],
   "source": [
    "# load in imbalanced dataset\n",
    "# x_train_pd = pd.read_hdf('train_val_test_imb.h5', mode='a', key='train')\n",
    "# x_test_pd = pd.read_hdf('train_val_test_imb.h5', mode = 'a', key='test')\n",
    "# x_val_pd = pd.read_hdf('train_val_test_imb.h5', mode = 'a', key='val')\n",
    "\n",
    "# load down-sampled dataset\n",
    "x_train_pd = pd.read_hdf('train_val_test_ds.h5', mode='a', key='x_train')\n",
    "x_test_pd = pd.read_hdf('train_val_test_ds.h5', mode = 'a', key='x_test')\n",
    "x_val_pd = pd.read_hdf('train_val_test_ds.h5', mode = 'a', key='x_val')\n",
    "\n",
    "y_train_pd = pd.read_hdf('train_val_test_ds.h5', mode='a', key='y_train')\n",
    "y_test_pd = pd.read_hdf('train_val_test_ds.h5', mode = 'a', key='y_test')\n",
    "y_val_pd = pd.read_hdf('train_val_test_ds.h5', mode = 'a', key='y_val')\n",
    "\n",
    "x_train_pd = pd.concat([y_train_pd, x_train_pd], axis=1)\n",
    "x_test_pd = pd.concat([y_test_pd, x_test_pd], axis=1)\n",
    "x_val_pd = pd.concat([y_val_pd, x_val_pd], axis=1)"
   ]
  },
  {
   "cell_type": "code",
   "execution_count": 147,
   "metadata": {},
   "outputs": [
    {
     "name": "stdout",
     "output_type": "stream",
     "text": [
      "Images in both train and test: set()\n",
      "Images in both train and val: {'D11.5_Pos13'}\n",
      "Images in both val and test: {'D8_Pos4'}\n"
     ]
    }
   ],
   "source": [
    "# make sure there aren't any overlapping images in train, val, or test sets\n",
    "print(f'Images in both train and test: {set(x_train_pd.image).intersection(set(x_test_pd.image))}')\n",
    "print(f'Images in both train and val: {set(x_train_pd.image).intersection(set(x_val_pd.image))}')\n",
    "print(f'Images in both val and test: {set(x_val_pd.image).intersection(set(x_test_pd.image))}')"
   ]
  },
  {
   "cell_type": "code",
   "execution_count": 19,
   "metadata": {},
   "outputs": [],
   "source": [
    "# helper functions for getting nearest neighbors\n",
    "\n",
    "# get nearest neighbors from a pandas dataframe, given pixel info\n",
    "\n",
    "def image_mask(df, image):\n",
    "    return df[df.image == image]\n",
    "\n",
    "\n",
    "def get_neighbor_ix(x, y, k):\n",
    "    ''' \n",
    "        Just returns a list of the pixels immediately around x and y, \n",
    "        enough to form a k x k grid\n",
    "    '''\n",
    "    ixs = list(range(-k//2+1, k//2+1))\n",
    "    neighbor_pixels = [(x+i, y+j) for i in ixs for j in ixs]\n",
    "    return neighbor_pixels\n",
    "\n",
    "\n",
    "def get_neighbors_from_pixels(df, x, y, k=3):\n",
    "    ''' \n",
    "        Given an x and y coordinate, find the k nearest neighbors of x and y. \n",
    "        Assumes that x and y coordinates come from same image\n",
    "    '''\n",
    "    # get list of local rows to consider: eg. k = 3 -> [-1,0,1]; k = 5 -> [-2, -1, 0, 1, 2]\n",
    "    # get list of neighbors that would be 1 away\n",
    "    neighbor_pixels = get_neighbor_ix(x, y, k)\n",
    "    neighbors = []\n",
    "    for n in neighbor_pixels:\n",
    "        x_pix, y_pix = n[0], n[1]\n",
    "        mask = (df.pix_x == x_pix) & (df.pix_y == y_pix)\n",
    "        row = df[mask]\n",
    "        if row.shape[0] > 0:\n",
    "            neighbors.append(row)\n",
    "    return pd.concat(neighbors, axis=0)\n",
    "\n",
    "\n",
    "def impute_from_df_mean(mini_df, x, y, k=3, ix=8):\n",
    "    ''' \n",
    "    Given the neighbors of x and y, assembles a \n",
    "    k x k tensor represnting the pixels around the point \n",
    "    x and y\n",
    "    '''\n",
    "    n = mini_df.shape[0]\n",
    "    if n == k**2: return mini_df\n",
    "    \n",
    "    # if still missing values, imput with the mean of available values\n",
    "    mean = mini_df.iloc[:,ix:].mean()\n",
    "    prepend = mini_df.iloc[0,:4]\n",
    "    bg_label = pd.Series({'background': mini_df.iloc[0,7]})\n",
    "    cell_id = pd.Series({'cell_id': 'None'})\n",
    "    \n",
    "    neighbor_pixels = get_neighbor_ix(x, y, k)\n",
    "    NEW_ROWS = []\n",
    "    pixels_present = set(list(zip(mini_df.pix_x, mini_df.pix_y)))\n",
    "    for pix_x, pix_y in neighbor_pixels:\n",
    "        if (pix_x, pix_y) not in pixels_present:\n",
    "            pixels = pd.Series({'pix_x':pix_x, 'pix_y':pix_y})\n",
    "            new_row = pd.concat([prepend, pixels, bg_label, mean])\n",
    "            NEW_ROWS.append(new_row)\n",
    "    ADD_ROWS = pd.concat(NEW_ROWS, axis=1)\n",
    "    return pd.concat([mini_df, ADD_ROWS.T], axis=0)\n",
    "\n",
    "\n",
    "def assemble_tensor_from_df(mini_df, x_center, y_center, k=3):\n",
    "    '''\n",
    "        Given the x center and the y center, assemble two tensors\n",
    "        around x_center and y_center - the tensor of spectra\n",
    "        and a resulting label (either fg or bg)\n",
    "    '''\n",
    "    # sort df, then reshape\n",
    "    sorted_df = mini_df.sort_values(['pix_x', 'pix_y'])\n",
    "    sorted_np = sorted_df.iloc[:,8:].to_numpy()\n",
    "    return np.reshape(sorted_np, newshape=(k,k,sorted_np.shape[1]))"
   ]
  },
  {
   "cell_type": "code",
   "execution_count": 450,
   "metadata": {},
   "outputs": [],
   "source": [
    "def get_tensors_from_df(dataframe, k=3):\n",
    "    ''' \n",
    "        Run through all the functions to get input tensors for \n",
    "        the neural network\n",
    "    '''\n",
    "    if k == 1:\n",
    "        return dataframe.iloc[:,8:].to_numpy().astype('float64'), ~dataframe.background\n",
    "    tensor_list = []\n",
    "    labels = []\n",
    "    # get image list\n",
    "    image_list = dataframe.image.unique()\n",
    "    for image in tqdm(image_list):\n",
    "        print(f'image name: {image}')\n",
    "        # get mask of that image\n",
    "        df = image_mask(dataframe, image)\n",
    "        for index, row in df.iterrows():\n",
    "            cell_label = int(not row.background) # 1 for cell, 0 for bg\n",
    "            x, y = row.pix_x, row.pix_y\n",
    "            # get the mini_df\n",
    "            neighbors = get_neighbors_from_pixels(df, x, y, k=3)\n",
    "            # impute any missing values\n",
    "            imp_neighbors = impute_from_df_mean(neighbors, x, y, k=k)\n",
    "            # now assemble tensor\n",
    "            tensor = assemble_tensor_from_df(imp_neighbors, x, y, k=k)\n",
    "            tensor_list.append(tensor)\n",
    "            labels.append(cell_label)\n",
    "    test_tensors_np = np.array(tensor_list)\n",
    "    return test_tensors_np.astype('float64'), np.array(labels)"
   ]
  },
  {
   "cell_type": "code",
   "execution_count": 205,
   "metadata": {},
   "outputs": [],
   "source": [
    "# find neighbors for all pixels\n",
    "df = raman_df_full[raman_df_full.image == ims[4]]\n",
    "n_list = []\n",
    "for index, row in (df.iterrows()):\n",
    "    x, y = row.pix_x, row.pix_y\n",
    "    neighbors = get_neighbors_from_pixels(df, x, y, k=3)\n",
    "    n_list.append(neighbors)\n"
   ]
  },
  {
   "cell_type": "code",
   "execution_count": 268,
   "metadata": {},
   "outputs": [
    {
     "data": {
      "image/png": "[encoded data removed]",
      "text/plain": [
       "<Figure size 432x288 with 1 Axes>"
      ]
     },
     "metadata": {
      "needs_background": "light"
     },
     "output_type": "display_data"
    }
   ],
   "source": [
    "# look at histogram of num neighbors\n",
    "n_sizes = np.array([n.shape[0] for n in n_list])\n",
    "plt.hist(n_sizes)\n",
    "plt.title(f'distribution of n_neighbors\\n Day {ims[4]}');"
   ]
  },
  {
   "cell_type": "markdown",
   "metadata": {},
   "source": [
    "### Save all as .h5 files for later use"
   ]
  },
  {
   "cell_type": "code",
   "execution_count": 22,
   "metadata": {},
   "outputs": [],
   "source": [
    "import h5py"
   ]
  },
  {
   "cell_type": "code",
   "execution_count": 451,
   "metadata": {},
   "outputs": [
    {
     "data": {
      "application/vnd.jupyter.widget-view+json": {
       "model_id": "c44fc74d03a542bba1c9143b3650b985",
       "version_major": 2,
       "version_minor": 0
      },
      "text/plain": [
       "HBox(children=(IntProgress(value=0, max=43), HTML(value='')))"
      ]
     },
     "metadata": {},
     "output_type": "display_data"
    },
    {
     "name": "stdout",
     "output_type": "stream",
     "text": [
      "image name: D12_Pos14\n"
     ]
    },
    {
     "name": "stderr",
     "output_type": "stream",
     "text": [
      "/Users/tjamesso/miniconda3/envs/broad/lib/python3.7/site-packages/ipykernel_launcher.py:61: FutureWarning: Sorting because non-concatenation axis is not aligned. A future version\n",
      "of pandas will change to not sort by default.\n",
      "\n",
      "To accept the future behavior, pass 'sort=False'.\n",
      "\n",
      "To retain the current behavior and silence the warning, pass 'sort=True'.\n",
      "\n"
     ]
    },
    {
     "name": "stdout",
     "output_type": "stream",
     "text": [
      "image name: D8.5_Pos1\n",
      "image name: D14_Pos1\n",
      "image name: D11.5_Pos6\n",
      "image name: D12_Pos18\n",
      "image name: D12.5_Pos17\n",
      "image name: D9_Pos19\n",
      "image name: D14_Pos16\n",
      "image name: D9.5_Pos17\n",
      "image name: D11.5_Pos7\n",
      "image name: D10_Pos12\n",
      "image name: D12_Pos13\n",
      "image name: D10.5_Pos18\n",
      "image name: D13_Pos16\n",
      "image name: D9_Pos4\n",
      "image name: D9_Pos8\n",
      "image name: D10_Pos19\n",
      "image name: D9.5_Pos3\n",
      "image name: D13_Pos11\n",
      "image name: D12_Pos7\n",
      "image name: D8.5_Pos6\n",
      "image name: D9.5_Pos8\n",
      "image name: D12.5_Pos10\n",
      "image name: D11_Pos2\n",
      "image name: D8_Pos5\n",
      "image name: D11.5_Pos19\n",
      "image name: D11_Pos5\n",
      "image name: D9.5_Pos10\n",
      "image name: D10.5_Pos8\n",
      "image name: D12_Pos1\n",
      "image name: D10_Pos4\n",
      "image name: D13_Pos6\n",
      "image name: D9_Pos12\n",
      "image name: D11.5_Pos12\n",
      "image name: D12.5_Pos1\n",
      "image name: D10.5_Pos19\n",
      "image name: D10.5_Pos14\n",
      "image name: D10_Pos8\n",
      "image name: D11_Pos17\n",
      "image name: D11.5_Pos15\n",
      "image name: D12_Pos0\n",
      "image name: D11.5_Pos14\n",
      "image name: D8_Pos4\n",
      "\n"
     ]
    }
   ],
   "source": [
    "# convert train, test, and validation sets into tensors\n",
    "# get test tensors\n",
    "test_tensors, test_labels = get_tensors_from_df(x_test_pd, k=5)"
   ]
  },
  {
   "cell_type": "code",
   "execution_count": 33,
   "metadata": {},
   "outputs": [],
   "source": [
    "# get test tensors\n",
    "hf_test = h5py.File('ds_tf_tensors_test.h5', 'w')\n",
    "hf_test.create_dataset('x_test', data=test_tensors)\n",
    "hf_test.create_dataset('y_test', data=test_labels)\n",
    "hf_test.close()"
   ]
  },
  {
   "cell_type": "code",
   "execution_count": 452,
   "metadata": {},
   "outputs": [
    {
     "data": {
      "application/vnd.jupyter.widget-view+json": {
       "model_id": "e1a7c230df8844be83c90db0cd28144c",
       "version_major": 2,
       "version_minor": 0
      },
      "text/plain": [
       "HBox(children=(IntProgress(value=0, max=39), HTML(value='')))"
      ]
     },
     "metadata": {},
     "output_type": "display_data"
    },
    {
     "name": "stdout",
     "output_type": "stream",
     "text": [
      "image name: D14_Pos11\n"
     ]
    },
    {
     "name": "stderr",
     "output_type": "stream",
     "text": [
      "/Users/tjamesso/miniconda3/envs/broad/lib/python3.7/site-packages/ipykernel_launcher.py:61: FutureWarning: Sorting because non-concatenation axis is not aligned. A future version\n",
      "of pandas will change to not sort by default.\n",
      "\n",
      "To accept the future behavior, pass 'sort=False'.\n",
      "\n",
      "To retain the current behavior and silence the warning, pass 'sort=True'.\n",
      "\n"
     ]
    },
    {
     "name": "stdout",
     "output_type": "stream",
     "text": [
      "image name: D9_Pos18\n",
      "image name: D13_Pos1\n",
      "image name: D12_Pos6\n",
      "image name: D11_Pos8\n",
      "image name: D9.5_Pos9\n",
      "image name: D8.5_Pos11\n",
      "image name: D13_Pos17\n",
      "image name: D11_Pos9\n",
      "image name: D14_Pos7\n",
      "image name: D9_Pos15\n",
      "image name: D12.5_Pos11\n",
      "image name: D9.5_Pos11\n",
      "image name: D8_Pos9\n",
      "image name: D11_Pos4\n",
      "image name: D8_Pos8\n",
      "image name: D11.5_Pos1\n",
      "image name: D12_Pos12\n",
      "image name: D14_Pos10\n",
      "image name: D14_Pos6\n",
      "image name: D8_Pos4\n",
      "image name: D9.5_Pos5\n",
      "image name: D13_Pos0\n",
      "image name: D12.5_Pos7\n",
      "image name: D11_Pos11\n",
      "image name: D10.5_Pos4\n",
      "image name: D10.5_Pos13\n",
      "image name: D8.5_Pos10\n",
      "image name: D11.5_Pos0\n",
      "image name: D8.5_Pos0\n",
      "image name: D9_Pos2\n",
      "image name: D9_Pos14\n",
      "image name: D11_Pos10\n",
      "image name: D12.5_Pos6\n",
      "image name: D11.5_Pos13\n",
      "image name: D10_Pos2\n",
      "image name: D10_Pos14\n",
      "image name: D10.5_Pos12\n",
      "image name: D10_Pos18\n",
      "\n"
     ]
    }
   ],
   "source": [
    "# get validation tensors\n",
    "val_tensors, val_labels = get_tensors_from_df(x_val_pd, k=5)"
   ]
  },
  {
   "cell_type": "code",
   "execution_count": 35,
   "metadata": {},
   "outputs": [],
   "source": [
    "# validation tensors\n",
    "hf_val = h5py.File('ds_tf_tensors_val.h5', 'w')\n",
    "hf_val.create_dataset('x_val', data=val_tensors)\n",
    "hf_val.create_dataset('y_val', data=val_labels)\n",
    "hf_val.close()"
   ]
  },
  {
   "cell_type": "code",
   "execution_count": 453,
   "metadata": {},
   "outputs": [
    {
     "data": {
      "application/vnd.jupyter.widget-view+json": {
       "model_id": "90b0f1a2e97343adb09c328380cda359",
       "version_major": 2,
       "version_minor": 0
      },
      "text/plain": [
       "HBox(children=(IntProgress(value=0, max=117), HTML(value='')))"
      ]
     },
     "metadata": {},
     "output_type": "display_data"
    },
    {
     "name": "stdout",
     "output_type": "stream",
     "text": [
      "image name: D10.5_Pos15\n"
     ]
    },
    {
     "name": "stderr",
     "output_type": "stream",
     "text": [
      "/Users/tjamesso/miniconda3/envs/broad/lib/python3.7/site-packages/ipykernel_launcher.py:61: FutureWarning: Sorting because non-concatenation axis is not aligned. A future version\n",
      "of pandas will change to not sort by default.\n",
      "\n",
      "To accept the future behavior, pass 'sort=False'.\n",
      "\n",
      "To retain the current behavior and silence the warning, pass 'sort=True'.\n",
      "\n"
     ]
    },
    {
     "name": "stdout",
     "output_type": "stream",
     "text": [
      "image name: D8.5_Pos12\n",
      "image name: D10_Pos1\n",
      "image name: D9_Pos5\n",
      "image name: D12.5_Pos14\n",
      "image name: D10_Pos13\n",
      "image name: D9_Pos11\n",
      "image name: D8_Pos7\n",
      "image name: D8.5_Pos5\n",
      "image name: D13_Pos7\n",
      "image name: D11.5_Pos5\n",
      "image name: D8.5_Pos4\n",
      "image name: D13_Pos15\n",
      "image name: D11_Pos19\n",
      "image name: D9.5_Pos15\n",
      "image name: D13_Pos9\n",
      "image name: D8_Pos6\n",
      "image name: D9_Pos17\n",
      "image name: D13_Pos3\n",
      "image name: D9_Pos16\n",
      "image name: D13_Pos5\n",
      "image name: D9.5_Pos18\n",
      "image name: D9.5_Pos16\n",
      "image name: D8.5_Pos13\n",
      "image name: D14_Pos8\n",
      "image name: D9_Pos10\n",
      "image name: D13_Pos18\n",
      "image name: D9.5_Pos19\n",
      "image name: D8.5_Pos2\n",
      "image name: D13_Pos10\n",
      "image name: D10.5_Pos7\n",
      "image name: D14_Pos19\n",
      "image name: D13_Pos4\n",
      "image name: D8.5_Pos7\n",
      "image name: D12.5_Pos8\n",
      "image name: D11.5_Pos17\n",
      "image name: D14_Pos12\n",
      "image name: D11_Pos16\n",
      "image name: D11.5_Pos3\n",
      "image name: D11_Pos3\n",
      "image name: D12_Pos10\n",
      "image name: D13_Pos12\n",
      "image name: D10_Pos11\n",
      "image name: D14_Pos9\n",
      "image name: D11.5_Pos10\n",
      "image name: D9.5_Pos14\n",
      "image name: D9_Pos0\n",
      "image name: D13_Pos8\n",
      "image name: D12_Pos3\n",
      "image name: D12.5_Pos9\n",
      "image name: D14_Pos13\n",
      "image name: D10.5_Pos1\n",
      "image name: D9_Pos6\n",
      "image name: D9.5_Pos1\n",
      "image name: D8.5_Pos14\n",
      "image name: D11_Pos7\n",
      "image name: D11_Pos18\n",
      "image name: D10.5_Pos10\n",
      "image name: D10.5_Pos0\n",
      "image name: D14_Pos14\n",
      "image name: D12.5_Pos16\n",
      "image name: D14_Pos18\n",
      "image name: D14_Pos0\n",
      "image name: D14_Pos17\n",
      "image name: D13_Pos13\n",
      "image name: D12_Pos11\n",
      "image name: D10.5_Pos16\n",
      "image name: D11_Pos13\n",
      "image name: D9_Pos13\n",
      "image name: D11_Pos6\n",
      "image name: D12_Pos17\n",
      "image name: D14_Pos5\n",
      "image name: D12.5_Pos3\n",
      "image name: D12.5_Pos0\n",
      "image name: D13_Pos19\n",
      "image name: D14_Pos2\n",
      "image name: D12_Pos8\n",
      "image name: D12_Pos4\n",
      "image name: D10_Pos6\n",
      "image name: D11.5_Pos18\n",
      "image name: D12_Pos15\n",
      "image name: D9.5_Pos0\n",
      "image name: D9_Pos7\n",
      "image name: D12.5_Pos13\n",
      "image name: D10.5_Pos17\n",
      "image name: D12_Pos5\n",
      "image name: D10_Pos5\n",
      "image name: D12.5_Pos18\n",
      "image name: D10.5_Pos11\n",
      "image name: D11.5_Pos8\n",
      "image name: D14_Pos3\n",
      "image name: D14_Pos4\n",
      "image name: D12.5_Pos5\n",
      "image name: D11_Pos0\n",
      "image name: D8.5_Pos8\n",
      "image name: D9.5_Pos2\n",
      "image name: D9.5_Pos12\n",
      "image name: D12.5_Pos12\n",
      "image name: D11_Pos1\n",
      "image name: D10_Pos16\n",
      "image name: D12_Pos16\n",
      "image name: D12.5_Pos2\n",
      "image name: D8.5_Pos3\n",
      "image name: D10_Pos17\n",
      "image name: D14_Pos15\n",
      "image name: D13_Pos2\n",
      "image name: D12_Pos9\n",
      "image name: D11_Pos15\n",
      "image name: D11.5_Pos16\n",
      "image name: D13_Pos14\n",
      "image name: D12_Pos19\n",
      "image name: D10.5_Pos6\n",
      "image name: D12_Pos2\n",
      "image name: D8.5_Pos9\n",
      "image name: D12.5_Pos15\n",
      "image name: D9_Pos9\n",
      "image name: D11.5_Pos13\n",
      "\n"
     ]
    }
   ],
   "source": [
    "# get train tensors\n",
    "train_tensors, train_labels = get_tensors_from_df(x_train_pd, k=5)"
   ]
  },
  {
   "cell_type": "code",
   "execution_count": 436,
   "metadata": {},
   "outputs": [
    {
     "data": {
      "text/plain": [
       "(808, 930)"
      ]
     },
     "execution_count": 436,
     "metadata": {},
     "output_type": "execute_result"
    }
   ],
   "source": [
    "train_tensors.shape"
   ]
  },
  {
   "cell_type": "code",
   "execution_count": 37,
   "metadata": {},
   "outputs": [],
   "source": [
    "# save training tensors\n",
    "hf_train = h5py.File('ds_tf_tensors_train.h5', 'w')\n",
    "hf_train.create_dataset('x_train', data=train_tensors)\n",
    "hf_train.create_dataset('y_train', data=train_labels)\n",
    "hf_train.close()"
   ]
  },
  {
   "cell_type": "code",
   "execution_count": null,
   "metadata": {},
   "outputs": [],
   "source": [
    "# get nearest neighbors from a 3D tensor (first reshape, then get nearest neighbors)"
   ]
  },
  {
   "cell_type": "code",
   "execution_count": null,
   "metadata": {},
   "outputs": [],
   "source": []
  },
  {
   "cell_type": "code",
   "execution_count": null,
   "metadata": {},
   "outputs": [],
   "source": []
  },
  {
   "cell_type": "code",
   "execution_count": null,
   "metadata": {},
   "outputs": [],
   "source": []
  },
  {
   "cell_type": "code",
   "execution_count": null,
   "metadata": {},
   "outputs": [],
   "source": []
  },
  {
   "cell_type": "markdown",
   "metadata": {},
   "source": [
    "## Define & Train Model "
   ]
  },
  {
   "cell_type": "code",
   "execution_count": 454,
   "metadata": {},
   "outputs": [],
   "source": [
    "# convert all arrays to tensors\n",
    "x_train_tf = tf.convert_to_tensor(train_tensors, dtype='float32')\n",
    "x_test_tf = tf.convert_to_tensor(test_tensors, dtype='float32')\n",
    "x_val_tf = tf.convert_to_tensor(val_tensors, dtype='float32')\n",
    "\n",
    "y_train_tf = tf.convert_to_tensor(train_labels)\n",
    "y_test_tf = tf.convert_to_tensor(test_labels)\n",
    "y_val_tf = tf.convert_to_tensor(val_labels)\n",
    "\n",
    "# change to one-hot encodings\n",
    "y_train_one_hot = tf.one_hot(y_train_tf,depth=2)\n",
    "y_test_one_hot = tf.one_hot(y_test_tf,depth=2)\n",
    "y_val_one_hot = tf.one_hot(y_val_tf,depth=2)"
   ]
  },
  {
   "cell_type": "code",
   "execution_count": 455,
   "metadata": {},
   "outputs": [
    {
     "name": "stdout",
     "output_type": "stream",
     "text": [
      "(808,) (544,) (278,)\n",
      "(808, 5, 5, 930) (544, 5, 5, 930) (278, 5, 5, 930)\n"
     ]
    }
   ],
   "source": [
    "print(y_train_tf.shape, y_test_tf.shape, y_val_tf.shape)\n",
    "print(x_train_tf.shape, x_test_tf.shape, x_val_tf.shape)"
   ]
  },
  {
   "cell_type": "code",
   "execution_count": 456,
   "metadata": {},
   "outputs": [],
   "source": [
    "from sklearn.utils import class_weight\n",
    "from kerastuner import HyperModel\n",
    "\n",
    "# Model definition    \n",
    "class raman_cnn(HyperModel):\n",
    "    \n",
    "    def __init__(self, kernel_size=2):\n",
    "        self.kernel_size=kernel_size\n",
    "        \n",
    "    def build(self, hp):\n",
    "        model = tf.keras.Sequential()\n",
    "\n",
    "        model.add(tf.keras.layers.Conv2D(filters=hp.Choice(\n",
    "                    'num_filters',\n",
    "                    values=[32, 64],\n",
    "                    default=64), \n",
    "                    kernel_size=self.kernel_size, strides=(1,1),\n",
    "                                activation='relu'))\n",
    "        model.add(tf.keras.layers.MaxPool2D())\n",
    "        model.add(tf.keras.layers.Flatten())\n",
    "        model.add(tf.keras.layers.Dense(units=hp.Int(\n",
    "                    'units',\n",
    "                    min_value=32,\n",
    "                    max_value=512,\n",
    "                    step=32,\n",
    "                    default=128\n",
    "                ),\n",
    "                activation=hp.Choice(\n",
    "                    'dense_activation',\n",
    "                    values=['relu', 'tanh', 'sigmoid'],\n",
    "                    default='relu')))\n",
    "        model.add(tf.keras.layers.Dropout(rate=hp.Float(\n",
    "                'dropout_1',\n",
    "                min_value=0.0,\n",
    "                max_value=0.5,\n",
    "                default=0.25,\n",
    "                step=0.05,\n",
    "            )))\n",
    "        model.add(tf.keras.layers.Dense(10, activation='relu'))\n",
    "        model.add(tf.keras.layers.Dropout(rate=hp.Float(\n",
    "                'dropout_1',\n",
    "                min_value=0.0,\n",
    "                max_value=0.5,\n",
    "                default=0.25,\n",
    "                step=0.05,\n",
    "            )))\n",
    "        model.add(tf.keras.layers.Dense(2, activation='softmax'))\n",
    "\n",
    "        # Use binary crossentropy loss\n",
    "        model.compile(optimizer=tf.keras.optimizers.Adam(\n",
    "                hp.Float(\n",
    "                    'learning_rate',\n",
    "                    min_value=1e-4,\n",
    "                    max_value=1e-2,\n",
    "                    sampling='LOG',\n",
    "                    default=1e-3)),\n",
    "                    loss='binary_crossentropy',\n",
    "                    metrics=['accuracy', 'AUC'])\n",
    "        \n",
    "        return model"
   ]
  },
  {
   "cell_type": "code",
   "execution_count": 99,
   "metadata": {},
   "outputs": [
    {
     "ename": "NameError",
     "evalue": "name 'labels' is not defined",
     "output_type": "error",
     "traceback": [
      "\u001b[0;31m---------------------------------------------------------------------------\u001b[0m",
      "\u001b[0;31mNameError\u001b[0m                                 Traceback (most recent call last)",
      "\u001b[0;32m<ipython-input-99-3ce417ef6688>\u001b[0m in \u001b[0;36m<module>\u001b[0;34m\u001b[0m\n\u001b[1;32m      1\u001b[0m \u001b[0;31m# Calculate the weights for each class so that we can balance the data\u001b[0m\u001b[0;34m\u001b[0m\u001b[0;34m\u001b[0m\u001b[0;34m\u001b[0m\u001b[0m\n\u001b[1;32m      2\u001b[0m weights = class_weight.compute_class_weight('balanced',\n\u001b[0;32m----> 3\u001b[0;31m                                             \u001b[0mnp\u001b[0m\u001b[0;34m.\u001b[0m\u001b[0munique\u001b[0m\u001b[0;34m(\u001b[0m\u001b[0mlabels\u001b[0m\u001b[0;34m)\u001b[0m\u001b[0;34m,\u001b[0m\u001b[0;34m\u001b[0m\u001b[0;34m\u001b[0m\u001b[0m\n\u001b[0m\u001b[1;32m      4\u001b[0m                                             labels.numpy())\n\u001b[1;32m      5\u001b[0m \u001b[0;34m\u001b[0m\u001b[0m\n",
      "\u001b[0;31mNameError\u001b[0m: name 'labels' is not defined"
     ]
    }
   ],
   "source": [
    "# Calculate the weights for each class so that we can balance the data\n",
    "weights = class_weight.compute_class_weight('balanced',\n",
    "                                            np.unique(labels),\n",
    "                                            labels.numpy())\n",
    "\n",
    "# Add the class weights to the training                                         \n",
    "history = model.fit(x, y, epochs=20, batch_size=32, class_weight=weights)"
   ]
  },
  {
   "cell_type": "markdown",
   "metadata": {},
   "source": [
    "## Hyperparameter Search"
   ]
  },
  {
   "cell_type": "code",
   "execution_count": 458,
   "metadata": {
    "collapsed": true,
    "jupyter": {
     "outputs_hidden": true
    }
   },
   "outputs": [],
   "source": [
    "from kerastuner.tuners import RandomSearch, Hyperband\n",
    "\n",
    "# define parameters\n",
    "HYPERBAND_MAX_EPOCHS = 40\n",
    "MAX_TRIALS = 20\n",
    "EXECUTION_PER_TRIAL = 2\n",
    "\n",
    "# define model\n",
    "model = raman_cnn(kernel_size=2)\n",
    "\n",
    "tuner = Hyperband(\n",
    "    model,\n",
    "    objective='val_accuracy',\n",
    "    seed=0,\n",
    "    executions_per_trial=EXECUTION_PER_TRIAL,\n",
    "    directory='hyperband',\n",
    "    project_name='raman',\n",
    "    max_epochs=HYPERBAND_MAX_EPOCHS\n",
    ")\n",
    "\n",
    "# conduct hyperparameter search\n",
    "N_EPOCH_SEARCH = 20\n",
    "tuner.search(x_train_tf, y_train_one_hot, epochs=N_EPOCH_SEARCH, validation_data=(x_val_tf, y_val_one_hot))"
   ]
  },
  {
   "cell_type": "markdown",
   "metadata": {},
   "source": [
    "## Model Evaluation"
   ]
  },
  {
   "cell_type": "code",
   "execution_count": 459,
   "metadata": {},
   "outputs": [],
   "source": [
    "from sklearn.metrics import classification_report, confusion_matrix, roc_curve"
   ]
  },
  {
   "cell_type": "code",
   "execution_count": 460,
   "metadata": {},
   "outputs": [
    {
     "name": "stdout",
     "output_type": "stream",
     "text": [
      "544/544 [==============================] - ETA: 4s - loss: 0.0791 - accuracy: 0.9688 - AUC: 0.99 - 0s 593us/sample - loss: 0.1871 - accuracy: 0.9724 - AUC: 0.9945\n"
     ]
    }
   ],
   "source": [
    "# evaluate on best model\n",
    "\n",
    "# tuner.results_summary()\n",
    "\n",
    "# Retrieve the best model.\n",
    "best_model = tuner.get_best_models(num_models=1)[0]\n",
    "\n",
    "# Evaluate the best model.\n",
    "loss, accuracy, auc = best_model.evaluate(x_test_tf, y_test_one_hot)"
   ]
  },
  {
   "cell_type": "code",
   "execution_count": 461,
   "metadata": {},
   "outputs": [
    {
     "data": {
      "image/png": "[encoded data removed]",
      "text/plain": [
       "<Figure size 432x288 with 1 Axes>"
      ]
     },
     "metadata": {
      "needs_background": "light"
     },
     "output_type": "display_data"
    }
   ],
   "source": [
    "y_pred = best_model.predict(x_test_tf)\n",
    "# get classification report and roc curve\n",
    "y_test_int = y_test_one_hot[:,1].numpy()\n",
    "y_pred_int = y_pred[:,1]\n",
    "\n",
    "\n",
    "# plotting roc curve\n",
    "fpr, tpr, thresholds = roc_curve(y_test_int, y_pred_int)\n",
    "plt.title('ROC Curve after CNN + cluster classifier')\n",
    "plt.plot(fpr, tpr, color='orange', linestyle='--', label='ROC curve');\n",
    "plt.plot([0, 1], [0, 1], color='blue', label='random classifier');\n",
    "plt.legend();"
   ]
  },
  {
   "cell_type": "markdown",
   "metadata": {},
   "source": [
    "## Test on images from .dat files"
   ]
  },
  {
   "cell_type": "markdown",
   "metadata": {},
   "source": [
    "### Recast images to tensors"
   ]
  },
  {
   "cell_type": "code",
   "execution_count": 417,
   "metadata": {},
   "outputs": [
    {
     "data": {
      "text/plain": [
       "43"
      ]
     },
     "execution_count": 417,
     "metadata": {},
     "output_type": "execute_result"
    }
   ],
   "source": [
    "len(x_test_pd.image.unique())"
   ]
  },
  {
   "cell_type": "code",
   "execution_count": null,
   "metadata": {},
   "outputs": [],
   "source": []
  },
  {
   "cell_type": "code",
   "execution_count": 405,
   "metadata": {},
   "outputs": [],
   "source": [
    "# load complete test tensors and image names\n",
    "load_test_images = False\n",
    "if load_test_images:\n",
    "    test_image_names = utils.read_pickle('test_image_names.pkl')\n",
    "    print('image names loaded')\n",
    "    raman_specs = utils.read_pickle('test_images.pkl')\n",
    "    print('full test images loaded')\n"
   ]
  },
  {
   "cell_type": "code",
   "execution_count": 462,
   "metadata": {},
   "outputs": [
    {
     "name": "stdout",
     "output_type": "stream",
     "text": [
      "image 1: D8.5_Pos1\n",
      "finger-print region extracted\n",
      "sharp peaks removed\n",
      "fluorescence removed\n",
      "horizontal mean subtracted\n",
      "cell complete\n"
     ]
    }
   ],
   "source": [
    "# get a random image image and run through the pre-processing pipeline\n",
    "image_ix = np.random.randint(0, high=len(raman_specs))\n",
    "print(f'image {image_ix}: {raman_specs[image_ix][0]}')\n",
    "image_vec = raman_specs[image_ix][1]\n",
    "\n",
    "image_fp = pp.get_fingerprint_region(image_vec, start_ix=410)\n",
    "print('finger-print region extracted')\n",
    "image_or = pp.remove_sharp_peaks_2d_iter(image_fp, win_size=10, threshold=5)\n",
    "print('sharp peaks removed')\n",
    "image_fr = pp.remove_fluorescence(image_or, method='als')\n",
    "print('fluorescence removed')\n",
    "image_hz = image_fr - np.mean(image_fr, axis=1, keepdims=True)\n",
    "print('horizontal mean subtracted')\n",
    "image_ss = StandardScaler().fit_transform(image_hz)\n",
    "print('cell complete')"
   ]
  },
  {
   "cell_type": "code",
   "execution_count": 463,
   "metadata": {},
   "outputs": [],
   "source": [
    "n_samples, d = image_ss.shape"
   ]
  },
  {
   "cell_type": "code",
   "execution_count": 464,
   "metadata": {},
   "outputs": [],
   "source": [
    "# sample an image, get tensors from it\n",
    "k = 3\n",
    "img = np.reshape(image_ss, (100,100,d))\n",
    "# add 0 padding\n",
    "# img_padded = np.pad(img, (2,2))[:,:,2:1342]\n",
    "tensor_list = []\n",
    "m,n, depth = img.shape\n",
    "for r in range(m-(k-1)):\n",
    "    for c in range(n-(k-1)):\n",
    "        tensor_list.append(img[r:r+k, c:c+k, :])\n",
    "tensor_np = np.array(tensor_list)"
   ]
  },
  {
   "cell_type": "code",
   "execution_count": 465,
   "metadata": {},
   "outputs": [
    {
     "data": {
      "text/plain": [
       "((9604, 3, 3, 930), (100, 100, 930), TensorShape([808, 5, 5, 930]))"
      ]
     },
     "execution_count": 465,
     "metadata": {},
     "output_type": "execute_result"
    }
   ],
   "source": [
    "tensor_np.shape, img.shape, x_train_tf.shape"
   ]
  },
  {
   "cell_type": "code",
   "execution_count": 466,
   "metadata": {},
   "outputs": [],
   "source": [
    "def rotate_image_180(image):\n",
    "    ''' rotate an image by 180 degrees '''\n",
    "    return np.rot90(image,2,(0,1))"
   ]
  },
  {
   "cell_type": "code",
   "execution_count": 467,
   "metadata": {},
   "outputs": [
    {
     "ename": "ValueError",
     "evalue": "Input 0 of layer dense is incompatible with the layer: expected axis -1 of input shape to have value 128 but received input with shape [None, 32]",
     "output_type": "error",
     "traceback": [
      "\u001b[0;31m---------------------------------------------------------------------------\u001b[0m",
      "\u001b[0;31mValueError\u001b[0m                                Traceback (most recent call last)",
      "\u001b[0;32m<ipython-input-467-fbfee7386468>\u001b[0m in \u001b[0;36m<module>\u001b[0;34m\u001b[0m\n\u001b[0;32m----> 1\u001b[0;31m \u001b[0mimg_pred\u001b[0m \u001b[0;34m=\u001b[0m \u001b[0mbest_model\u001b[0m\u001b[0;34m.\u001b[0m\u001b[0mpredict\u001b[0m\u001b[0;34m(\u001b[0m\u001b[0mtensor_np\u001b[0m\u001b[0;34m)\u001b[0m\u001b[0;34m[\u001b[0m\u001b[0;34m:\u001b[0m\u001b[0;34m,\u001b[0m\u001b[0;36m1\u001b[0m\u001b[0;34m]\u001b[0m\u001b[0;34m\u001b[0m\u001b[0;34m\u001b[0m\u001b[0m\n\u001b[0m\u001b[1;32m      2\u001b[0m \u001b[0mimg_reshaped\u001b[0m \u001b[0;34m=\u001b[0m \u001b[0mnp\u001b[0m\u001b[0;34m.\u001b[0m\u001b[0mreshape\u001b[0m\u001b[0;34m(\u001b[0m\u001b[0mimg_pred\u001b[0m\u001b[0;34m,\u001b[0m \u001b[0;34m(\u001b[0m\u001b[0mm\u001b[0m\u001b[0;34m-\u001b[0m\u001b[0;36m2\u001b[0m\u001b[0;34m,\u001b[0m \u001b[0mn\u001b[0m\u001b[0;34m-\u001b[0m\u001b[0;36m2\u001b[0m\u001b[0;34m)\u001b[0m\u001b[0;34m)\u001b[0m\u001b[0;34m\u001b[0m\u001b[0;34m\u001b[0m\u001b[0m\n\u001b[1;32m      3\u001b[0m \u001b[0mimg_rot\u001b[0m \u001b[0;34m=\u001b[0m \u001b[0mrotate_image_180\u001b[0m\u001b[0;34m(\u001b[0m\u001b[0mimg_reshaped\u001b[0m\u001b[0;34m)\u001b[0m\u001b[0;34m\u001b[0m\u001b[0;34m\u001b[0m\u001b[0m\n",
      "\u001b[0;32m~/miniconda3/envs/broad/lib/python3.7/site-packages/tensorflow_core/python/keras/engine/training.py\u001b[0m in \u001b[0;36mpredict\u001b[0;34m(self, x, batch_size, verbose, steps, callbacks, max_queue_size, workers, use_multiprocessing)\u001b[0m\n\u001b[1;32m   1011\u001b[0m         \u001b[0mmax_queue_size\u001b[0m\u001b[0;34m=\u001b[0m\u001b[0mmax_queue_size\u001b[0m\u001b[0;34m,\u001b[0m\u001b[0;34m\u001b[0m\u001b[0;34m\u001b[0m\u001b[0m\n\u001b[1;32m   1012\u001b[0m         \u001b[0mworkers\u001b[0m\u001b[0;34m=\u001b[0m\u001b[0mworkers\u001b[0m\u001b[0;34m,\u001b[0m\u001b[0;34m\u001b[0m\u001b[0;34m\u001b[0m\u001b[0m\n\u001b[0;32m-> 1013\u001b[0;31m         use_multiprocessing=use_multiprocessing)\n\u001b[0m\u001b[1;32m   1014\u001b[0m \u001b[0;34m\u001b[0m\u001b[0m\n\u001b[1;32m   1015\u001b[0m   \u001b[0;32mdef\u001b[0m \u001b[0mreset_metrics\u001b[0m\u001b[0;34m(\u001b[0m\u001b[0mself\u001b[0m\u001b[0;34m)\u001b[0m\u001b[0;34m:\u001b[0m\u001b[0;34m\u001b[0m\u001b[0;34m\u001b[0m\u001b[0m\n",
      "\u001b[0;32m~/miniconda3/envs/broad/lib/python3.7/site-packages/tensorflow_core/python/keras/engine/training_v2.py\u001b[0m in \u001b[0;36mpredict\u001b[0;34m(self, model, x, batch_size, verbose, steps, callbacks, max_queue_size, workers, use_multiprocessing, **kwargs)\u001b[0m\n\u001b[1;32m    496\u001b[0m         \u001b[0mmodel\u001b[0m\u001b[0;34m,\u001b[0m \u001b[0mModeKeys\u001b[0m\u001b[0;34m.\u001b[0m\u001b[0mPREDICT\u001b[0m\u001b[0;34m,\u001b[0m \u001b[0mx\u001b[0m\u001b[0;34m=\u001b[0m\u001b[0mx\u001b[0m\u001b[0;34m,\u001b[0m \u001b[0mbatch_size\u001b[0m\u001b[0;34m=\u001b[0m\u001b[0mbatch_size\u001b[0m\u001b[0;34m,\u001b[0m \u001b[0mverbose\u001b[0m\u001b[0;34m=\u001b[0m\u001b[0mverbose\u001b[0m\u001b[0;34m,\u001b[0m\u001b[0;34m\u001b[0m\u001b[0;34m\u001b[0m\u001b[0m\n\u001b[1;32m    497\u001b[0m         \u001b[0msteps\u001b[0m\u001b[0;34m=\u001b[0m\u001b[0msteps\u001b[0m\u001b[0;34m,\u001b[0m \u001b[0mcallbacks\u001b[0m\u001b[0;34m=\u001b[0m\u001b[0mcallbacks\u001b[0m\u001b[0;34m,\u001b[0m \u001b[0mmax_queue_size\u001b[0m\u001b[0;34m=\u001b[0m\u001b[0mmax_queue_size\u001b[0m\u001b[0;34m,\u001b[0m\u001b[0;34m\u001b[0m\u001b[0;34m\u001b[0m\u001b[0m\n\u001b[0;32m--> 498\u001b[0;31m         workers=workers, use_multiprocessing=use_multiprocessing, **kwargs)\n\u001b[0m\u001b[1;32m    499\u001b[0m \u001b[0;34m\u001b[0m\u001b[0m\n\u001b[1;32m    500\u001b[0m \u001b[0;34m\u001b[0m\u001b[0m\n",
      "\u001b[0;32m~/miniconda3/envs/broad/lib/python3.7/site-packages/tensorflow_core/python/keras/engine/training_v2.py\u001b[0m in \u001b[0;36m_model_iteration\u001b[0;34m(self, model, mode, x, y, batch_size, verbose, sample_weight, steps, callbacks, max_queue_size, workers, use_multiprocessing, **kwargs)\u001b[0m\n\u001b[1;32m    473\u001b[0m               \u001b[0mmode\u001b[0m\u001b[0;34m=\u001b[0m\u001b[0mmode\u001b[0m\u001b[0;34m,\u001b[0m\u001b[0;34m\u001b[0m\u001b[0;34m\u001b[0m\u001b[0m\n\u001b[1;32m    474\u001b[0m               \u001b[0mtraining_context\u001b[0m\u001b[0;34m=\u001b[0m\u001b[0mtraining_context\u001b[0m\u001b[0;34m,\u001b[0m\u001b[0;34m\u001b[0m\u001b[0;34m\u001b[0m\u001b[0m\n\u001b[0;32m--> 475\u001b[0;31m               total_epochs=1)\n\u001b[0m\u001b[1;32m    476\u001b[0m           \u001b[0mcbks\u001b[0m\u001b[0;34m.\u001b[0m\u001b[0mmake_logs\u001b[0m\u001b[0;34m(\u001b[0m\u001b[0mmodel\u001b[0m\u001b[0;34m,\u001b[0m \u001b[0mepoch_logs\u001b[0m\u001b[0;34m,\u001b[0m \u001b[0mresult\u001b[0m\u001b[0;34m,\u001b[0m \u001b[0mmode\u001b[0m\u001b[0;34m)\u001b[0m\u001b[0;34m\u001b[0m\u001b[0;34m\u001b[0m\u001b[0m\n\u001b[1;32m    477\u001b[0m \u001b[0;34m\u001b[0m\u001b[0m\n",
      "\u001b[0;32m~/miniconda3/envs/broad/lib/python3.7/site-packages/tensorflow_core/python/keras/engine/training_v2.py\u001b[0m in \u001b[0;36mrun_one_epoch\u001b[0;34m(model, iterator, execution_function, dataset_size, batch_size, strategy, steps_per_epoch, num_samples, mode, training_context, total_epochs)\u001b[0m\n\u001b[1;32m    126\u001b[0m         step=step, mode=mode, size=current_batch_size) as batch_logs:\n\u001b[1;32m    127\u001b[0m       \u001b[0;32mtry\u001b[0m\u001b[0;34m:\u001b[0m\u001b[0;34m\u001b[0m\u001b[0;34m\u001b[0m\u001b[0m\n\u001b[0;32m--> 128\u001b[0;31m         \u001b[0mbatch_outs\u001b[0m \u001b[0;34m=\u001b[0m \u001b[0mexecution_function\u001b[0m\u001b[0;34m(\u001b[0m\u001b[0miterator\u001b[0m\u001b[0;34m)\u001b[0m\u001b[0;34m\u001b[0m\u001b[0;34m\u001b[0m\u001b[0m\n\u001b[0m\u001b[1;32m    129\u001b[0m       \u001b[0;32mexcept\u001b[0m \u001b[0;34m(\u001b[0m\u001b[0mStopIteration\u001b[0m\u001b[0;34m,\u001b[0m \u001b[0merrors\u001b[0m\u001b[0;34m.\u001b[0m\u001b[0mOutOfRangeError\u001b[0m\u001b[0;34m)\u001b[0m\u001b[0;34m:\u001b[0m\u001b[0;34m\u001b[0m\u001b[0;34m\u001b[0m\u001b[0m\n\u001b[1;32m    130\u001b[0m         \u001b[0;31m# TODO(kaftan): File bug about tf function and errors.OutOfRangeError?\u001b[0m\u001b[0;34m\u001b[0m\u001b[0;34m\u001b[0m\u001b[0;34m\u001b[0m\u001b[0m\n",
      "\u001b[0;32m~/miniconda3/envs/broad/lib/python3.7/site-packages/tensorflow_core/python/keras/engine/training_v2_utils.py\u001b[0m in \u001b[0;36mexecution_function\u001b[0;34m(input_fn)\u001b[0m\n\u001b[1;32m     96\u001b[0m     \u001b[0;31m# `numpy` translates Tensors to values in Eager mode.\u001b[0m\u001b[0;34m\u001b[0m\u001b[0;34m\u001b[0m\u001b[0;34m\u001b[0m\u001b[0m\n\u001b[1;32m     97\u001b[0m     return nest.map_structure(_non_none_constant_value,\n\u001b[0;32m---> 98\u001b[0;31m                               distributed_function(input_fn))\n\u001b[0m\u001b[1;32m     99\u001b[0m \u001b[0;34m\u001b[0m\u001b[0m\n\u001b[1;32m    100\u001b[0m   \u001b[0;32mreturn\u001b[0m \u001b[0mexecution_function\u001b[0m\u001b[0;34m\u001b[0m\u001b[0;34m\u001b[0m\u001b[0m\n",
      "\u001b[0;32m~/miniconda3/envs/broad/lib/python3.7/site-packages/tensorflow_core/python/eager/def_function.py\u001b[0m in \u001b[0;36m__call__\u001b[0;34m(self, *args, **kwds)\u001b[0m\n\u001b[1;32m    566\u001b[0m         \u001b[0mxla_context\u001b[0m\u001b[0;34m.\u001b[0m\u001b[0mExit\u001b[0m\u001b[0;34m(\u001b[0m\u001b[0;34m)\u001b[0m\u001b[0;34m\u001b[0m\u001b[0;34m\u001b[0m\u001b[0m\n\u001b[1;32m    567\u001b[0m     \u001b[0;32melse\u001b[0m\u001b[0;34m:\u001b[0m\u001b[0;34m\u001b[0m\u001b[0;34m\u001b[0m\u001b[0m\n\u001b[0;32m--> 568\u001b[0;31m       \u001b[0mresult\u001b[0m \u001b[0;34m=\u001b[0m \u001b[0mself\u001b[0m\u001b[0;34m.\u001b[0m\u001b[0m_call\u001b[0m\u001b[0;34m(\u001b[0m\u001b[0;34m*\u001b[0m\u001b[0margs\u001b[0m\u001b[0;34m,\u001b[0m \u001b[0;34m**\u001b[0m\u001b[0mkwds\u001b[0m\u001b[0;34m)\u001b[0m\u001b[0;34m\u001b[0m\u001b[0;34m\u001b[0m\u001b[0m\n\u001b[0m\u001b[1;32m    569\u001b[0m \u001b[0;34m\u001b[0m\u001b[0m\n\u001b[1;32m    570\u001b[0m     \u001b[0;32mif\u001b[0m \u001b[0mtracing_count\u001b[0m \u001b[0;34m==\u001b[0m \u001b[0mself\u001b[0m\u001b[0;34m.\u001b[0m\u001b[0m_get_tracing_count\u001b[0m\u001b[0;34m(\u001b[0m\u001b[0;34m)\u001b[0m\u001b[0;34m:\u001b[0m\u001b[0;34m\u001b[0m\u001b[0;34m\u001b[0m\u001b[0m\n",
      "\u001b[0;32m~/miniconda3/envs/broad/lib/python3.7/site-packages/tensorflow_core/python/eager/def_function.py\u001b[0m in \u001b[0;36m_call\u001b[0;34m(self, *args, **kwds)\u001b[0m\n\u001b[1;32m    604\u001b[0m       \u001b[0;31m# In this case we have not created variables on the first call. So we can\u001b[0m\u001b[0;34m\u001b[0m\u001b[0;34m\u001b[0m\u001b[0;34m\u001b[0m\u001b[0m\n\u001b[1;32m    605\u001b[0m       \u001b[0;31m# run the first trace but we should fail if variables are created.\u001b[0m\u001b[0;34m\u001b[0m\u001b[0;34m\u001b[0m\u001b[0;34m\u001b[0m\u001b[0m\n\u001b[0;32m--> 606\u001b[0;31m       \u001b[0mresults\u001b[0m \u001b[0;34m=\u001b[0m \u001b[0mself\u001b[0m\u001b[0;34m.\u001b[0m\u001b[0m_stateful_fn\u001b[0m\u001b[0;34m(\u001b[0m\u001b[0;34m*\u001b[0m\u001b[0margs\u001b[0m\u001b[0;34m,\u001b[0m \u001b[0;34m**\u001b[0m\u001b[0mkwds\u001b[0m\u001b[0;34m)\u001b[0m\u001b[0;34m\u001b[0m\u001b[0;34m\u001b[0m\u001b[0m\n\u001b[0m\u001b[1;32m    607\u001b[0m       \u001b[0;32mif\u001b[0m \u001b[0mself\u001b[0m\u001b[0;34m.\u001b[0m\u001b[0m_created_variables\u001b[0m\u001b[0;34m:\u001b[0m\u001b[0;34m\u001b[0m\u001b[0;34m\u001b[0m\u001b[0m\n\u001b[1;32m    608\u001b[0m         raise ValueError(\"Creating variables on a non-first call to a function\"\n",
      "\u001b[0;32m~/miniconda3/envs/broad/lib/python3.7/site-packages/tensorflow_core/python/eager/function.py\u001b[0m in \u001b[0;36m__call__\u001b[0;34m(self, *args, **kwargs)\u001b[0m\n\u001b[1;32m   2360\u001b[0m     \u001b[0;34m\"\"\"Calls a graph function specialized to the inputs.\"\"\"\u001b[0m\u001b[0;34m\u001b[0m\u001b[0;34m\u001b[0m\u001b[0m\n\u001b[1;32m   2361\u001b[0m     \u001b[0;32mwith\u001b[0m \u001b[0mself\u001b[0m\u001b[0;34m.\u001b[0m\u001b[0m_lock\u001b[0m\u001b[0;34m:\u001b[0m\u001b[0;34m\u001b[0m\u001b[0;34m\u001b[0m\u001b[0m\n\u001b[0;32m-> 2362\u001b[0;31m       \u001b[0mgraph_function\u001b[0m\u001b[0;34m,\u001b[0m \u001b[0margs\u001b[0m\u001b[0;34m,\u001b[0m \u001b[0mkwargs\u001b[0m \u001b[0;34m=\u001b[0m \u001b[0mself\u001b[0m\u001b[0;34m.\u001b[0m\u001b[0m_maybe_define_function\u001b[0m\u001b[0;34m(\u001b[0m\u001b[0margs\u001b[0m\u001b[0;34m,\u001b[0m \u001b[0mkwargs\u001b[0m\u001b[0;34m)\u001b[0m\u001b[0;34m\u001b[0m\u001b[0;34m\u001b[0m\u001b[0m\n\u001b[0m\u001b[1;32m   2363\u001b[0m     \u001b[0;32mreturn\u001b[0m \u001b[0mgraph_function\u001b[0m\u001b[0;34m.\u001b[0m\u001b[0m_filtered_call\u001b[0m\u001b[0;34m(\u001b[0m\u001b[0margs\u001b[0m\u001b[0;34m,\u001b[0m \u001b[0mkwargs\u001b[0m\u001b[0;34m)\u001b[0m  \u001b[0;31m# pylint: disable=protected-access\u001b[0m\u001b[0;34m\u001b[0m\u001b[0;34m\u001b[0m\u001b[0m\n\u001b[1;32m   2364\u001b[0m \u001b[0;34m\u001b[0m\u001b[0m\n",
      "\u001b[0;32m~/miniconda3/envs/broad/lib/python3.7/site-packages/tensorflow_core/python/eager/function.py\u001b[0m in \u001b[0;36m_maybe_define_function\u001b[0;34m(self, args, kwargs)\u001b[0m\n\u001b[1;32m   2701\u001b[0m \u001b[0;34m\u001b[0m\u001b[0m\n\u001b[1;32m   2702\u001b[0m       \u001b[0mself\u001b[0m\u001b[0;34m.\u001b[0m\u001b[0m_function_cache\u001b[0m\u001b[0;34m.\u001b[0m\u001b[0mmissed\u001b[0m\u001b[0;34m.\u001b[0m\u001b[0madd\u001b[0m\u001b[0;34m(\u001b[0m\u001b[0mcall_context_key\u001b[0m\u001b[0;34m)\u001b[0m\u001b[0;34m\u001b[0m\u001b[0;34m\u001b[0m\u001b[0m\n\u001b[0;32m-> 2703\u001b[0;31m       \u001b[0mgraph_function\u001b[0m \u001b[0;34m=\u001b[0m \u001b[0mself\u001b[0m\u001b[0;34m.\u001b[0m\u001b[0m_create_graph_function\u001b[0m\u001b[0;34m(\u001b[0m\u001b[0margs\u001b[0m\u001b[0;34m,\u001b[0m \u001b[0mkwargs\u001b[0m\u001b[0;34m)\u001b[0m\u001b[0;34m\u001b[0m\u001b[0;34m\u001b[0m\u001b[0m\n\u001b[0m\u001b[1;32m   2704\u001b[0m       \u001b[0mself\u001b[0m\u001b[0;34m.\u001b[0m\u001b[0m_function_cache\u001b[0m\u001b[0;34m.\u001b[0m\u001b[0mprimary\u001b[0m\u001b[0;34m[\u001b[0m\u001b[0mcache_key\u001b[0m\u001b[0;34m]\u001b[0m \u001b[0;34m=\u001b[0m \u001b[0mgraph_function\u001b[0m\u001b[0;34m\u001b[0m\u001b[0;34m\u001b[0m\u001b[0m\n\u001b[1;32m   2705\u001b[0m       \u001b[0;32mreturn\u001b[0m \u001b[0mgraph_function\u001b[0m\u001b[0;34m,\u001b[0m \u001b[0margs\u001b[0m\u001b[0;34m,\u001b[0m \u001b[0mkwargs\u001b[0m\u001b[0;34m\u001b[0m\u001b[0;34m\u001b[0m\u001b[0m\n",
      "\u001b[0;32m~/miniconda3/envs/broad/lib/python3.7/site-packages/tensorflow_core/python/eager/function.py\u001b[0m in \u001b[0;36m_create_graph_function\u001b[0;34m(self, args, kwargs, override_flat_arg_shapes)\u001b[0m\n\u001b[1;32m   2591\u001b[0m             \u001b[0marg_names\u001b[0m\u001b[0;34m=\u001b[0m\u001b[0marg_names\u001b[0m\u001b[0;34m,\u001b[0m\u001b[0;34m\u001b[0m\u001b[0;34m\u001b[0m\u001b[0m\n\u001b[1;32m   2592\u001b[0m             \u001b[0moverride_flat_arg_shapes\u001b[0m\u001b[0;34m=\u001b[0m\u001b[0moverride_flat_arg_shapes\u001b[0m\u001b[0;34m,\u001b[0m\u001b[0;34m\u001b[0m\u001b[0;34m\u001b[0m\u001b[0m\n\u001b[0;32m-> 2593\u001b[0;31m             capture_by_value=self._capture_by_value),\n\u001b[0m\u001b[1;32m   2594\u001b[0m         \u001b[0mself\u001b[0m\u001b[0;34m.\u001b[0m\u001b[0m_function_attributes\u001b[0m\u001b[0;34m,\u001b[0m\u001b[0;34m\u001b[0m\u001b[0;34m\u001b[0m\u001b[0m\n\u001b[1;32m   2595\u001b[0m         \u001b[0;31m# Tell the ConcreteFunction to clean up its graph once it goes out of\u001b[0m\u001b[0;34m\u001b[0m\u001b[0;34m\u001b[0m\u001b[0;34m\u001b[0m\u001b[0m\n",
      "\u001b[0;32m~/miniconda3/envs/broad/lib/python3.7/site-packages/tensorflow_core/python/framework/func_graph.py\u001b[0m in \u001b[0;36mfunc_graph_from_py_func\u001b[0;34m(name, python_func, args, kwargs, signature, func_graph, autograph, autograph_options, add_control_dependencies, arg_names, op_return_value, collections, capture_by_value, override_flat_arg_shapes)\u001b[0m\n\u001b[1;32m    976\u001b[0m                                           converted_func)\n\u001b[1;32m    977\u001b[0m \u001b[0;34m\u001b[0m\u001b[0m\n\u001b[0;32m--> 978\u001b[0;31m       \u001b[0mfunc_outputs\u001b[0m \u001b[0;34m=\u001b[0m \u001b[0mpython_func\u001b[0m\u001b[0;34m(\u001b[0m\u001b[0;34m*\u001b[0m\u001b[0mfunc_args\u001b[0m\u001b[0;34m,\u001b[0m \u001b[0;34m**\u001b[0m\u001b[0mfunc_kwargs\u001b[0m\u001b[0;34m)\u001b[0m\u001b[0;34m\u001b[0m\u001b[0;34m\u001b[0m\u001b[0m\n\u001b[0m\u001b[1;32m    979\u001b[0m \u001b[0;34m\u001b[0m\u001b[0m\n\u001b[1;32m    980\u001b[0m       \u001b[0;31m# invariant: `func_outputs` contains only Tensors, CompositeTensors,\u001b[0m\u001b[0;34m\u001b[0m\u001b[0;34m\u001b[0m\u001b[0;34m\u001b[0m\u001b[0m\n",
      "\u001b[0;32m~/miniconda3/envs/broad/lib/python3.7/site-packages/tensorflow_core/python/eager/def_function.py\u001b[0m in \u001b[0;36mwrapped_fn\u001b[0;34m(*args, **kwds)\u001b[0m\n\u001b[1;32m    437\u001b[0m         \u001b[0;31m# __wrapped__ allows AutoGraph to swap in a converted function. We give\u001b[0m\u001b[0;34m\u001b[0m\u001b[0;34m\u001b[0m\u001b[0;34m\u001b[0m\u001b[0m\n\u001b[1;32m    438\u001b[0m         \u001b[0;31m# the function a weak reference to itself to avoid a reference cycle.\u001b[0m\u001b[0;34m\u001b[0m\u001b[0;34m\u001b[0m\u001b[0;34m\u001b[0m\u001b[0m\n\u001b[0;32m--> 439\u001b[0;31m         \u001b[0;32mreturn\u001b[0m \u001b[0mweak_wrapped_fn\u001b[0m\u001b[0;34m(\u001b[0m\u001b[0;34m)\u001b[0m\u001b[0;34m.\u001b[0m\u001b[0m__wrapped__\u001b[0m\u001b[0;34m(\u001b[0m\u001b[0;34m*\u001b[0m\u001b[0margs\u001b[0m\u001b[0;34m,\u001b[0m \u001b[0;34m**\u001b[0m\u001b[0mkwds\u001b[0m\u001b[0;34m)\u001b[0m\u001b[0;34m\u001b[0m\u001b[0;34m\u001b[0m\u001b[0m\n\u001b[0m\u001b[1;32m    440\u001b[0m     \u001b[0mweak_wrapped_fn\u001b[0m \u001b[0;34m=\u001b[0m \u001b[0mweakref\u001b[0m\u001b[0;34m.\u001b[0m\u001b[0mref\u001b[0m\u001b[0;34m(\u001b[0m\u001b[0mwrapped_fn\u001b[0m\u001b[0;34m)\u001b[0m\u001b[0;34m\u001b[0m\u001b[0;34m\u001b[0m\u001b[0m\n\u001b[1;32m    441\u001b[0m \u001b[0;34m\u001b[0m\u001b[0m\n",
      "\u001b[0;32m~/miniconda3/envs/broad/lib/python3.7/site-packages/tensorflow_core/python/keras/engine/training_v2_utils.py\u001b[0m in \u001b[0;36mdistributed_function\u001b[0;34m(input_iterator)\u001b[0m\n\u001b[1;32m     83\u001b[0m     \u001b[0margs\u001b[0m \u001b[0;34m=\u001b[0m \u001b[0m_prepare_feed_values\u001b[0m\u001b[0;34m(\u001b[0m\u001b[0mmodel\u001b[0m\u001b[0;34m,\u001b[0m \u001b[0minput_iterator\u001b[0m\u001b[0;34m,\u001b[0m \u001b[0mmode\u001b[0m\u001b[0;34m,\u001b[0m \u001b[0mstrategy\u001b[0m\u001b[0;34m)\u001b[0m\u001b[0;34m\u001b[0m\u001b[0;34m\u001b[0m\u001b[0m\n\u001b[1;32m     84\u001b[0m     outputs = strategy.experimental_run_v2(\n\u001b[0;32m---> 85\u001b[0;31m         per_replica_function, args=args)\n\u001b[0m\u001b[1;32m     86\u001b[0m     \u001b[0;31m# Out of PerReplica outputs reduce or pick values to return.\u001b[0m\u001b[0;34m\u001b[0m\u001b[0;34m\u001b[0m\u001b[0;34m\u001b[0m\u001b[0m\n\u001b[1;32m     87\u001b[0m     all_outputs = dist_utils.unwrap_output_dict(\n",
      "\u001b[0;32m~/miniconda3/envs/broad/lib/python3.7/site-packages/tensorflow_core/python/distribute/distribute_lib.py\u001b[0m in \u001b[0;36mexperimental_run_v2\u001b[0;34m(self, fn, args, kwargs)\u001b[0m\n\u001b[1;32m    761\u001b[0m       fn = autograph.tf_convert(fn, ag_ctx.control_status_ctx(),\n\u001b[1;32m    762\u001b[0m                                 convert_by_default=False)\n\u001b[0;32m--> 763\u001b[0;31m       \u001b[0;32mreturn\u001b[0m \u001b[0mself\u001b[0m\u001b[0;34m.\u001b[0m\u001b[0m_extended\u001b[0m\u001b[0;34m.\u001b[0m\u001b[0mcall_for_each_replica\u001b[0m\u001b[0;34m(\u001b[0m\u001b[0mfn\u001b[0m\u001b[0;34m,\u001b[0m \u001b[0margs\u001b[0m\u001b[0;34m=\u001b[0m\u001b[0margs\u001b[0m\u001b[0;34m,\u001b[0m \u001b[0mkwargs\u001b[0m\u001b[0;34m=\u001b[0m\u001b[0mkwargs\u001b[0m\u001b[0;34m)\u001b[0m\u001b[0;34m\u001b[0m\u001b[0;34m\u001b[0m\u001b[0m\n\u001b[0m\u001b[1;32m    764\u001b[0m \u001b[0;34m\u001b[0m\u001b[0m\n\u001b[1;32m    765\u001b[0m   \u001b[0;32mdef\u001b[0m \u001b[0mreduce\u001b[0m\u001b[0;34m(\u001b[0m\u001b[0mself\u001b[0m\u001b[0;34m,\u001b[0m \u001b[0mreduce_op\u001b[0m\u001b[0;34m,\u001b[0m \u001b[0mvalue\u001b[0m\u001b[0;34m,\u001b[0m \u001b[0maxis\u001b[0m\u001b[0;34m)\u001b[0m\u001b[0;34m:\u001b[0m\u001b[0;34m\u001b[0m\u001b[0;34m\u001b[0m\u001b[0m\n",
      "\u001b[0;32m~/miniconda3/envs/broad/lib/python3.7/site-packages/tensorflow_core/python/distribute/distribute_lib.py\u001b[0m in \u001b[0;36mcall_for_each_replica\u001b[0;34m(self, fn, args, kwargs)\u001b[0m\n\u001b[1;32m   1817\u001b[0m       \u001b[0mkwargs\u001b[0m \u001b[0;34m=\u001b[0m \u001b[0;34m{\u001b[0m\u001b[0;34m}\u001b[0m\u001b[0;34m\u001b[0m\u001b[0;34m\u001b[0m\u001b[0m\n\u001b[1;32m   1818\u001b[0m     \u001b[0;32mwith\u001b[0m \u001b[0mself\u001b[0m\u001b[0;34m.\u001b[0m\u001b[0m_container_strategy\u001b[0m\u001b[0;34m(\u001b[0m\u001b[0;34m)\u001b[0m\u001b[0;34m.\u001b[0m\u001b[0mscope\u001b[0m\u001b[0;34m(\u001b[0m\u001b[0;34m)\u001b[0m\u001b[0;34m:\u001b[0m\u001b[0;34m\u001b[0m\u001b[0;34m\u001b[0m\u001b[0m\n\u001b[0;32m-> 1819\u001b[0;31m       \u001b[0;32mreturn\u001b[0m \u001b[0mself\u001b[0m\u001b[0;34m.\u001b[0m\u001b[0m_call_for_each_replica\u001b[0m\u001b[0;34m(\u001b[0m\u001b[0mfn\u001b[0m\u001b[0;34m,\u001b[0m \u001b[0margs\u001b[0m\u001b[0;34m,\u001b[0m \u001b[0mkwargs\u001b[0m\u001b[0;34m)\u001b[0m\u001b[0;34m\u001b[0m\u001b[0;34m\u001b[0m\u001b[0m\n\u001b[0m\u001b[1;32m   1820\u001b[0m \u001b[0;34m\u001b[0m\u001b[0m\n\u001b[1;32m   1821\u001b[0m   \u001b[0;32mdef\u001b[0m \u001b[0m_call_for_each_replica\u001b[0m\u001b[0;34m(\u001b[0m\u001b[0mself\u001b[0m\u001b[0;34m,\u001b[0m \u001b[0mfn\u001b[0m\u001b[0;34m,\u001b[0m \u001b[0margs\u001b[0m\u001b[0;34m,\u001b[0m \u001b[0mkwargs\u001b[0m\u001b[0;34m)\u001b[0m\u001b[0;34m:\u001b[0m\u001b[0;34m\u001b[0m\u001b[0;34m\u001b[0m\u001b[0m\n",
      "\u001b[0;32m~/miniconda3/envs/broad/lib/python3.7/site-packages/tensorflow_core/python/distribute/distribute_lib.py\u001b[0m in \u001b[0;36m_call_for_each_replica\u001b[0;34m(self, fn, args, kwargs)\u001b[0m\n\u001b[1;32m   2162\u001b[0m         \u001b[0mself\u001b[0m\u001b[0;34m.\u001b[0m\u001b[0m_container_strategy\u001b[0m\u001b[0;34m(\u001b[0m\u001b[0;34m)\u001b[0m\u001b[0;34m,\u001b[0m\u001b[0;34m\u001b[0m\u001b[0;34m\u001b[0m\u001b[0m\n\u001b[1;32m   2163\u001b[0m         replica_id_in_sync_group=constant_op.constant(0, dtypes.int32)):\n\u001b[0;32m-> 2164\u001b[0;31m       \u001b[0;32mreturn\u001b[0m \u001b[0mfn\u001b[0m\u001b[0;34m(\u001b[0m\u001b[0;34m*\u001b[0m\u001b[0margs\u001b[0m\u001b[0;34m,\u001b[0m \u001b[0;34m**\u001b[0m\u001b[0mkwargs\u001b[0m\u001b[0;34m)\u001b[0m\u001b[0;34m\u001b[0m\u001b[0;34m\u001b[0m\u001b[0m\n\u001b[0m\u001b[1;32m   2165\u001b[0m \u001b[0;34m\u001b[0m\u001b[0m\n\u001b[1;32m   2166\u001b[0m   \u001b[0;32mdef\u001b[0m \u001b[0m_reduce_to\u001b[0m\u001b[0;34m(\u001b[0m\u001b[0mself\u001b[0m\u001b[0;34m,\u001b[0m \u001b[0mreduce_op\u001b[0m\u001b[0;34m,\u001b[0m \u001b[0mvalue\u001b[0m\u001b[0;34m,\u001b[0m \u001b[0mdestinations\u001b[0m\u001b[0;34m)\u001b[0m\u001b[0;34m:\u001b[0m\u001b[0;34m\u001b[0m\u001b[0;34m\u001b[0m\u001b[0m\n",
      "\u001b[0;32m~/miniconda3/envs/broad/lib/python3.7/site-packages/tensorflow_core/python/autograph/impl/api.py\u001b[0m in \u001b[0;36mwrapper\u001b[0;34m(*args, **kwargs)\u001b[0m\n\u001b[1;32m    290\u001b[0m   \u001b[0;32mdef\u001b[0m \u001b[0mwrapper\u001b[0m\u001b[0;34m(\u001b[0m\u001b[0;34m*\u001b[0m\u001b[0margs\u001b[0m\u001b[0;34m,\u001b[0m \u001b[0;34m**\u001b[0m\u001b[0mkwargs\u001b[0m\u001b[0;34m)\u001b[0m\u001b[0;34m:\u001b[0m\u001b[0;34m\u001b[0m\u001b[0;34m\u001b[0m\u001b[0m\n\u001b[1;32m    291\u001b[0m     \u001b[0;32mwith\u001b[0m \u001b[0mag_ctx\u001b[0m\u001b[0;34m.\u001b[0m\u001b[0mControlStatusCtx\u001b[0m\u001b[0;34m(\u001b[0m\u001b[0mstatus\u001b[0m\u001b[0;34m=\u001b[0m\u001b[0mag_ctx\u001b[0m\u001b[0;34m.\u001b[0m\u001b[0mStatus\u001b[0m\u001b[0;34m.\u001b[0m\u001b[0mDISABLED\u001b[0m\u001b[0;34m)\u001b[0m\u001b[0;34m:\u001b[0m\u001b[0;34m\u001b[0m\u001b[0;34m\u001b[0m\u001b[0m\n\u001b[0;32m--> 292\u001b[0;31m       \u001b[0;32mreturn\u001b[0m \u001b[0mfunc\u001b[0m\u001b[0;34m(\u001b[0m\u001b[0;34m*\u001b[0m\u001b[0margs\u001b[0m\u001b[0;34m,\u001b[0m \u001b[0;34m**\u001b[0m\u001b[0mkwargs\u001b[0m\u001b[0;34m)\u001b[0m\u001b[0;34m\u001b[0m\u001b[0;34m\u001b[0m\u001b[0m\n\u001b[0m\u001b[1;32m    293\u001b[0m \u001b[0;34m\u001b[0m\u001b[0m\n\u001b[1;32m    294\u001b[0m   \u001b[0;32mif\u001b[0m \u001b[0minspect\u001b[0m\u001b[0;34m.\u001b[0m\u001b[0misfunction\u001b[0m\u001b[0;34m(\u001b[0m\u001b[0mfunc\u001b[0m\u001b[0;34m)\u001b[0m \u001b[0;32mor\u001b[0m \u001b[0minspect\u001b[0m\u001b[0;34m.\u001b[0m\u001b[0mismethod\u001b[0m\u001b[0;34m(\u001b[0m\u001b[0mfunc\u001b[0m\u001b[0;34m)\u001b[0m\u001b[0;34m:\u001b[0m\u001b[0;34m\u001b[0m\u001b[0;34m\u001b[0m\u001b[0m\n",
      "\u001b[0;32m~/miniconda3/envs/broad/lib/python3.7/site-packages/tensorflow_core/python/keras/engine/training_v2_utils.py\u001b[0m in \u001b[0;36m_predict_on_batch\u001b[0;34m(***failed resolving arguments***)\u001b[0m\n\u001b[1;32m    210\u001b[0m       \u001b[0;32mdel\u001b[0m \u001b[0my\u001b[0m\u001b[0;34m,\u001b[0m \u001b[0msample_weights\u001b[0m\u001b[0;34m\u001b[0m\u001b[0;34m\u001b[0m\u001b[0m\n\u001b[1;32m    211\u001b[0m       \u001b[0;31m# Note that the x and batch_index is already per-replica value.\u001b[0m\u001b[0;34m\u001b[0m\u001b[0;34m\u001b[0m\u001b[0;34m\u001b[0m\u001b[0m\n\u001b[0;32m--> 212\u001b[0;31m       \u001b[0mresult\u001b[0m \u001b[0;34m=\u001b[0m \u001b[0mpredict_on_batch\u001b[0m\u001b[0;34m(\u001b[0m\u001b[0mmodel\u001b[0m\u001b[0;34m,\u001b[0m \u001b[0mx\u001b[0m\u001b[0;34m)\u001b[0m\u001b[0;34m\u001b[0m\u001b[0;34m\u001b[0m\u001b[0m\n\u001b[0m\u001b[1;32m    213\u001b[0m       \u001b[0;32mif\u001b[0m \u001b[0mbatch_index\u001b[0m \u001b[0;32mis\u001b[0m \u001b[0;32mNone\u001b[0m\u001b[0;34m:\u001b[0m\u001b[0;34m\u001b[0m\u001b[0;34m\u001b[0m\u001b[0m\n\u001b[1;32m    214\u001b[0m         \u001b[0;32mreturn\u001b[0m \u001b[0mresult\u001b[0m\u001b[0;34m\u001b[0m\u001b[0;34m\u001b[0m\u001b[0m\n",
      "\u001b[0;32m~/miniconda3/envs/broad/lib/python3.7/site-packages/tensorflow_core/python/keras/engine/training_v2_utils.py\u001b[0m in \u001b[0;36mpredict_on_batch\u001b[0;34m(model, x, standalone)\u001b[0m\n\u001b[1;32m    554\u001b[0m \u001b[0;34m\u001b[0m\u001b[0m\n\u001b[1;32m    555\u001b[0m   \u001b[0;32mwith\u001b[0m \u001b[0mbackend\u001b[0m\u001b[0;34m.\u001b[0m\u001b[0meager_learning_phase_scope\u001b[0m\u001b[0;34m(\u001b[0m\u001b[0;36m0\u001b[0m\u001b[0;34m)\u001b[0m\u001b[0;34m:\u001b[0m\u001b[0;34m\u001b[0m\u001b[0;34m\u001b[0m\u001b[0m\n\u001b[0;32m--> 556\u001b[0;31m     \u001b[0;32mreturn\u001b[0m \u001b[0mpredict_on_batch_fn\u001b[0m\u001b[0;34m(\u001b[0m\u001b[0minputs\u001b[0m\u001b[0;34m)\u001b[0m  \u001b[0;31m# pylint: disable=not-callable\u001b[0m\u001b[0;34m\u001b[0m\u001b[0;34m\u001b[0m\u001b[0m\n\u001b[0m",
      "\u001b[0;32m~/miniconda3/envs/broad/lib/python3.7/site-packages/tensorflow_core/python/keras/engine/base_layer.py\u001b[0m in \u001b[0;36m__call__\u001b[0;34m(self, inputs, *args, **kwargs)\u001b[0m\n\u001b[1;32m    776\u001b[0m                     \u001b[0moutputs\u001b[0m \u001b[0;34m=\u001b[0m \u001b[0mbase_layer_utils\u001b[0m\u001b[0;34m.\u001b[0m\u001b[0mmark_as_return\u001b[0m\u001b[0;34m(\u001b[0m\u001b[0moutputs\u001b[0m\u001b[0;34m,\u001b[0m \u001b[0macd\u001b[0m\u001b[0;34m)\u001b[0m\u001b[0;34m\u001b[0m\u001b[0;34m\u001b[0m\u001b[0m\n\u001b[1;32m    777\u001b[0m                 \u001b[0;32melse\u001b[0m\u001b[0;34m:\u001b[0m\u001b[0;34m\u001b[0m\u001b[0;34m\u001b[0m\u001b[0m\n\u001b[0;32m--> 778\u001b[0;31m                   \u001b[0moutputs\u001b[0m \u001b[0;34m=\u001b[0m \u001b[0mcall_fn\u001b[0m\u001b[0;34m(\u001b[0m\u001b[0mcast_inputs\u001b[0m\u001b[0;34m,\u001b[0m \u001b[0;34m*\u001b[0m\u001b[0margs\u001b[0m\u001b[0;34m,\u001b[0m \u001b[0;34m**\u001b[0m\u001b[0mkwargs\u001b[0m\u001b[0;34m)\u001b[0m\u001b[0;34m\u001b[0m\u001b[0;34m\u001b[0m\u001b[0m\n\u001b[0m\u001b[1;32m    779\u001b[0m \u001b[0;34m\u001b[0m\u001b[0m\n\u001b[1;32m    780\u001b[0m             \u001b[0;32mexcept\u001b[0m \u001b[0merrors\u001b[0m\u001b[0;34m.\u001b[0m\u001b[0mOperatorNotAllowedInGraphError\u001b[0m \u001b[0;32mas\u001b[0m \u001b[0me\u001b[0m\u001b[0;34m:\u001b[0m\u001b[0;34m\u001b[0m\u001b[0;34m\u001b[0m\u001b[0m\n",
      "\u001b[0;32m~/miniconda3/envs/broad/lib/python3.7/site-packages/tensorflow_core/python/keras/engine/sequential.py\u001b[0m in \u001b[0;36mcall\u001b[0;34m(self, inputs, training, mask)\u001b[0m\n\u001b[1;32m    279\u001b[0m         \u001b[0mkwargs\u001b[0m\u001b[0;34m[\u001b[0m\u001b[0;34m'training'\u001b[0m\u001b[0;34m]\u001b[0m \u001b[0;34m=\u001b[0m \u001b[0mtraining\u001b[0m\u001b[0;34m\u001b[0m\u001b[0;34m\u001b[0m\u001b[0m\n\u001b[1;32m    280\u001b[0m \u001b[0;34m\u001b[0m\u001b[0m\n\u001b[0;32m--> 281\u001b[0;31m       \u001b[0moutputs\u001b[0m \u001b[0;34m=\u001b[0m \u001b[0mlayer\u001b[0m\u001b[0;34m(\u001b[0m\u001b[0minputs\u001b[0m\u001b[0;34m,\u001b[0m \u001b[0;34m**\u001b[0m\u001b[0mkwargs\u001b[0m\u001b[0;34m)\u001b[0m\u001b[0;34m\u001b[0m\u001b[0;34m\u001b[0m\u001b[0m\n\u001b[0m\u001b[1;32m    282\u001b[0m \u001b[0;34m\u001b[0m\u001b[0m\n\u001b[1;32m    283\u001b[0m       \u001b[0;31m# `outputs` will be the inputs to the next layer.\u001b[0m\u001b[0;34m\u001b[0m\u001b[0;34m\u001b[0m\u001b[0;34m\u001b[0m\u001b[0m\n",
      "\u001b[0;32m~/miniconda3/envs/broad/lib/python3.7/site-packages/tensorflow_core/python/keras/engine/base_layer.py\u001b[0m in \u001b[0;36m__call__\u001b[0;34m(self, inputs, *args, **kwargs)\u001b[0m\n\u001b[1;32m    735\u001b[0m         \u001b[0;31m# are casted, not before.\u001b[0m\u001b[0;34m\u001b[0m\u001b[0;34m\u001b[0m\u001b[0;34m\u001b[0m\u001b[0m\n\u001b[1;32m    736\u001b[0m         input_spec.assert_input_compatibility(self.input_spec, inputs,\n\u001b[0;32m--> 737\u001b[0;31m                                               self.name)\n\u001b[0m\u001b[1;32m    738\u001b[0m         if (any(isinstance(x, ragged_tensor.RaggedTensor) for x in input_list)\n\u001b[1;32m    739\u001b[0m             and self._supports_ragged_inputs is False):  # pylint: disable=g-bool-id-comparison\n",
      "\u001b[0;32m~/miniconda3/envs/broad/lib/python3.7/site-packages/tensorflow_core/python/keras/engine/input_spec.py\u001b[0m in \u001b[0;36massert_input_compatibility\u001b[0;34m(input_spec, inputs, layer_name)\u001b[0m\n\u001b[1;32m    211\u001b[0m                 \u001b[0;34m' incompatible with the layer: expected axis '\u001b[0m \u001b[0;34m+\u001b[0m \u001b[0mstr\u001b[0m\u001b[0;34m(\u001b[0m\u001b[0maxis\u001b[0m\u001b[0;34m)\u001b[0m \u001b[0;34m+\u001b[0m\u001b[0;34m\u001b[0m\u001b[0;34m\u001b[0m\u001b[0m\n\u001b[1;32m    212\u001b[0m                 \u001b[0;34m' of input shape to have value '\u001b[0m \u001b[0;34m+\u001b[0m \u001b[0mstr\u001b[0m\u001b[0;34m(\u001b[0m\u001b[0mvalue\u001b[0m\u001b[0;34m)\u001b[0m \u001b[0;34m+\u001b[0m\u001b[0;34m\u001b[0m\u001b[0;34m\u001b[0m\u001b[0m\n\u001b[0;32m--> 213\u001b[0;31m                 ' but received input with shape ' + str(shape))\n\u001b[0m\u001b[1;32m    214\u001b[0m     \u001b[0;31m# Check shape.\u001b[0m\u001b[0;34m\u001b[0m\u001b[0;34m\u001b[0m\u001b[0;34m\u001b[0m\u001b[0m\n\u001b[1;32m    215\u001b[0m     \u001b[0;32mif\u001b[0m \u001b[0mspec\u001b[0m\u001b[0;34m.\u001b[0m\u001b[0mshape\u001b[0m \u001b[0;32mis\u001b[0m \u001b[0;32mnot\u001b[0m \u001b[0;32mNone\u001b[0m\u001b[0;34m:\u001b[0m\u001b[0;34m\u001b[0m\u001b[0;34m\u001b[0m\u001b[0m\n",
      "\u001b[0;31mValueError\u001b[0m: Input 0 of layer dense is incompatible with the layer: expected axis -1 of input shape to have value 128 but received input with shape [None, 32]"
     ]
    }
   ],
   "source": [
    "img_pred = best_model.predict(tensor_np)[:,1]\n",
    "img_reshaped = np.reshape(img_pred, (m-2, n-2))\n",
    "img_rot = rotate_image_180(img_reshaped)"
   ]
  },
  {
   "cell_type": "code",
   "execution_count": null,
   "metadata": {},
   "outputs": [],
   "source": [
    "# get ground truth and nucleaize's best segmentation\n",
    "nuclei_stain_image = plt.imread(f'./data/nuclei_stain/{raman_specs[image_ix][0]}.tif')\n",
    "segmentation_image = plt.imread(f'./data/labelled/{raman_specs[image_ix][0]}.tiff')\n",
    "\n",
    "# get window of interest from these images\n",
    "temp_loc = (368,355)\n",
    "temp_dims = 1312\n",
    "nuclei_stain_image_cropped = nuclei_stain_image[temp_loc[0]:temp_loc[0]+temp_dims,temp_loc[1]:temp_loc[1]+temp_dims]\n",
    "segmentation_image_cropped = segmentation_image[temp_loc[0]:temp_loc[0]+temp_dims,temp_loc[1]:temp_loc[1]+temp_dims]\n",
    "\n",
    "# get title\n",
    "image_name = raman_specs[image_ix][0]"
   ]
  },
  {
   "cell_type": "code",
   "execution_count": null,
   "metadata": {},
   "outputs": [],
   "source": [
    "from matplotlib import colors as cm"
   ]
  },
  {
   "cell_type": "code",
   "execution_count": null,
   "metadata": {},
   "outputs": [],
   "source": [
    "# plot image side by side with original image\n",
    "norm = cm.Normalize(vmin=0, vmax=1)\n",
    "fig, axs = plt.subplots(1, 3,figsize=(15,15))\n",
    "im1 = axs[0].imshow(img_rot)\n",
    "axs[0].set_title(f'Predicted image using Patch CNN\\n{image_name}')\n",
    "im2 = axs[1].imshow(nuclei_stain_image_cropped)\n",
    "axs[1].set_title(f'Original image\\n{image_name}')\n",
    "im3 = axs[2].imshow(segmentation_image_cropped);\n",
    "axs[2].set_title(f'State of the art Segmentation\\n{image_name}')\n",
    "\n",
    "# add colorbar\n",
    "fig.colorbar(im1, ax=axs[0], shrink=.25)\n",
    "fig.colorbar(im2, ax=axs[1], shrink=.25)\n",
    "fig.colorbar(im3, ax=axs[2], shrink=.25);\n",
    "\n",
    "# save figure\n",
    "plt.savefig(f'results/patch_CNN_k=5/nn_image_{image_ix}');\n"
   ]
  },
  {
   "cell_type": "code",
   "execution_count": 364,
   "metadata": {},
   "outputs": [
    {
     "data": {
      "text/plain": [
       "True"
      ]
     },
     "execution_count": 364,
     "metadata": {},
     "output_type": "execute_result"
    }
   ],
   "source": [
    "'D9.5_Pos8' in x_test_pd.image.unique()"
   ]
  },
  {
   "cell_type": "code",
   "execution_count": null,
   "metadata": {},
   "outputs": [],
   "source": []
  },
  {
   "cell_type": "code",
   "execution_count": null,
   "metadata": {},
   "outputs": [],
   "source": []
  },
  {
   "cell_type": "code",
   "execution_count": null,
   "metadata": {},
   "outputs": [],
   "source": []
  },
  {
   "cell_type": "markdown",
   "metadata": {},
   "source": [
    "**Note** - decision made to not apply padding for the sake of time. Consider adding back in later"
   ]
  },
  {
   "cell_type": "code",
   "execution_count": 164,
   "metadata": {},
   "outputs": [],
   "source": [
    "# UNFINISHED CODE (ADD LATER IF TIME PERMITS)\n",
    "# for raman vectors, if 0 present (at a corner), fill in with means\n",
    "def impute_small_tensor(tensor):\n",
    "    # check if 0 in tensor\n",
    "    if 0 not in tensor: return tensor\n",
    "    pass\n",
    "\n",
    "def impute_from_image_mean(tensor_np):\n",
    "    pass\n",
    "\n",
    "def get_test_image_tensors(raman_vec, k=3):\n",
    "    ''' \n",
    "        Given an input vector, reshapes and finds all k x k\n",
    "        clusters. Assumes tensors has already been pre-processed\n",
    "    '''\n",
    "    m, n_features = raman_vec.shape\n",
    "    raman_tensor = np.reshape(raman_vec, (100,100, n_features))\n",
    "    "
   ]
  },
  {
   "cell_type": "code",
   "execution_count": null,
   "metadata": {},
   "outputs": [],
   "source": []
  }
 ],
 "metadata": {
  "kernelspec": {
   "display_name": "Python 3",
   "language": "python",
   "name": "python3"
  },
  "language_info": {
   "codemirror_mode": {
    "name": "ipython",
    "version": 3
   },
   "file_extension": ".py",
   "mimetype": "text/x-python",
   "name": "python",
   "nbconvert_exporter": "python",
   "pygments_lexer": "ipython3",
   "version": "3.7.6"
  }
 },
 "nbformat": 4,
 "nbformat_minor": 4
}
